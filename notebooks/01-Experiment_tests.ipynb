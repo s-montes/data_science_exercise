{
 "cells": [
  {
   "cell_type": "code",
   "execution_count": 2,
   "metadata": {},
   "outputs": [],
   "source": [
    "import os\n",
    "import sys\n",
    "\n",
    "import numpy as np\n",
    "import pandas as pd\n",
    "import scipy.stats as st\n",
    "import seaborn as sns\n",
    "from numpy.random import MT19937\n",
    "from numpy.random import RandomState, SeedSequence\n",
    "from statsmodels.stats.weightstats import ztest\n",
    "\n",
    "\n",
    "sys.path.append(os.path.dirname(\"../src\"))\n",
    "\n",
    "from src.clean_data import get_clean_logs\n",
    "from src.utils import merge_series_by_index\n",
    "from src.testing import z_test_conversion, bootstrap_pvalue"
   ]
  },
  {
   "cell_type": "code",
   "execution_count": 66,
   "metadata": {},
   "outputs": [],
   "source": [
    "rng = RandomState(MT19937(SeedSequence(123)))"
   ]
  },
  {
   "cell_type": "code",
   "execution_count": 68,
   "metadata": {},
   "outputs": [
    {
     "data": {
      "text/plain": [
       "numpy.random.mtrand.RandomState"
      ]
     },
     "execution_count": 68,
     "metadata": {},
     "output_type": "execute_result"
    }
   ],
   "source": [
    "type(rng)"
   ]
  },
  {
   "cell_type": "code",
   "execution_count": 4,
   "metadata": {},
   "outputs": [],
   "source": [
    "clean_logs = get_clean_logs()"
   ]
  },
  {
   "cell_type": "code",
   "execution_count": 5,
   "metadata": {},
   "outputs": [
    {
     "data": {
      "text/html": [
       "<div>\n",
       "<style scoped>\n",
       "    .dataframe tbody tr th:only-of-type {\n",
       "        vertical-align: middle;\n",
       "    }\n",
       "\n",
       "    .dataframe tbody tr th {\n",
       "        vertical-align: top;\n",
       "    }\n",
       "\n",
       "    .dataframe thead th {\n",
       "        text-align: right;\n",
       "    }\n",
       "</style>\n",
       "<table border=\"1\" class=\"dataframe\">\n",
       "  <thead>\n",
       "    <tr style=\"text-align: right;\">\n",
       "      <th></th>\n",
       "      <th>datetime</th>\n",
       "      <th>user_id</th>\n",
       "      <th>variant</th>\n",
       "      <th>city</th>\n",
       "      <th>event_type</th>\n",
       "      <th>revenue</th>\n",
       "    </tr>\n",
       "  </thead>\n",
       "  <tbody>\n",
       "    <tr>\n",
       "      <th>0</th>\n",
       "      <td>2021-08-01 00:00:39</td>\n",
       "      <td>786179591</td>\n",
       "      <td>B</td>\n",
       "      <td>rome</td>\n",
       "      <td>property_view</td>\n",
       "      <td>NaN</td>\n",
       "    </tr>\n",
       "    <tr>\n",
       "      <th>1</th>\n",
       "      <td>2021-08-01 00:02:29</td>\n",
       "      <td>790889727</td>\n",
       "      <td>A</td>\n",
       "      <td>rome</td>\n",
       "      <td>property_view</td>\n",
       "      <td>NaN</td>\n",
       "    </tr>\n",
       "    <tr>\n",
       "      <th>2</th>\n",
       "      <td>2021-08-01 00:06:27</td>\n",
       "      <td>869904661</td>\n",
       "      <td>B</td>\n",
       "      <td>madrid</td>\n",
       "      <td>property_view</td>\n",
       "      <td>NaN</td>\n",
       "    </tr>\n",
       "    <tr>\n",
       "      <th>3</th>\n",
       "      <td>2021-08-01 00:06:29</td>\n",
       "      <td>835833313</td>\n",
       "      <td>B</td>\n",
       "      <td>rome</td>\n",
       "      <td>property_favorite_added</td>\n",
       "      <td>NaN</td>\n",
       "    </tr>\n",
       "    <tr>\n",
       "      <th>4</th>\n",
       "      <td>2021-08-01 00:11:51</td>\n",
       "      <td>950822873</td>\n",
       "      <td>A</td>\n",
       "      <td>madrid</td>\n",
       "      <td>property_view</td>\n",
       "      <td>NaN</td>\n",
       "    </tr>\n",
       "  </tbody>\n",
       "</table>\n",
       "</div>"
      ],
      "text/plain": [
       "              datetime    user_id variant    city               event_type  \\\n",
       "0  2021-08-01 00:00:39  786179591       B    rome            property_view   \n",
       "1  2021-08-01 00:02:29  790889727       A    rome            property_view   \n",
       "2  2021-08-01 00:06:27  869904661       B  madrid            property_view   \n",
       "3  2021-08-01 00:06:29  835833313       B    rome  property_favorite_added   \n",
       "4  2021-08-01 00:11:51  950822873       A  madrid            property_view   \n",
       "\n",
       "   revenue  \n",
       "0      NaN  \n",
       "1      NaN  \n",
       "2      NaN  \n",
       "3      NaN  \n",
       "4      NaN  "
      ]
     },
     "execution_count": 5,
     "metadata": {},
     "output_type": "execute_result"
    }
   ],
   "source": [
    "clean_logs.head()"
   ]
  },
  {
   "cell_type": "code",
   "execution_count": 5,
   "metadata": {},
   "outputs": [],
   "source": [
    "experiment = merge_series_by_index(\n",
    "    clean_logs.drop_duplicates(subset=[\"user_id\"])[\"variant\"]\n",
    "    .value_counts()\n",
    "    .rename(\"tot_users\"),\n",
    "    clean_logs.loc[clean_logs[\"event_type\"] == \"booking_request\", \"variant\"]\n",
    "    .value_counts()\n",
    "    .rename(\"tot_bookings\"),\n",
    "    clean_logs.groupby(\"variant\")\n",
    "    .agg(tot_revenue=(\"revenue\", \"sum\"))\n",
    "    .reset_index()\n",
    "    .set_index(\"variant\")[\"tot_revenue\"],\n",
    ")"
   ]
  },
  {
   "cell_type": "code",
   "execution_count": 6,
   "metadata": {},
   "outputs": [
    {
     "data": {
      "text/plain": [
       "0.0020171198854121997"
      ]
     },
     "execution_count": 6,
     "metadata": {},
     "output_type": "execute_result"
    }
   ],
   "source": [
    "2*(1 - st.norm.cdf(abs(-3.0877)))"
   ]
  },
  {
   "cell_type": "code",
   "execution_count": 7,
   "metadata": {},
   "outputs": [
    {
     "data": {
      "text/plain": [
       "{'B': {'tot_users': 812,\n",
       "  'tot_bookings': 153,\n",
       "  'tot_revenue': 50706.19397225155},\n",
       " 'A': {'tot_users': 806,\n",
       "  'tot_bookings': 203,\n",
       "  'tot_revenue': 39050.62011896709}}"
      ]
     },
     "execution_count": 7,
     "metadata": {},
     "output_type": "execute_result"
    }
   ],
   "source": [
    "experiment.to_dict(\"index\")"
   ]
  },
  {
   "cell_type": "code",
   "execution_count": 8,
   "metadata": {},
   "outputs": [
    {
     "data": {
      "text/html": [
       "<div>\n",
       "<style scoped>\n",
       "    .dataframe tbody tr th:only-of-type {\n",
       "        vertical-align: middle;\n",
       "    }\n",
       "\n",
       "    .dataframe tbody tr th {\n",
       "        vertical-align: top;\n",
       "    }\n",
       "\n",
       "    .dataframe thead th {\n",
       "        text-align: right;\n",
       "    }\n",
       "</style>\n",
       "<table border=\"1\" class=\"dataframe\">\n",
       "  <thead>\n",
       "    <tr style=\"text-align: right;\">\n",
       "      <th></th>\n",
       "      <th>variant</th>\n",
       "      <th>tot_users</th>\n",
       "      <th>tot_bookings</th>\n",
       "      <th>tot_revenue</th>\n",
       "    </tr>\n",
       "  </thead>\n",
       "  <tbody>\n",
       "    <tr>\n",
       "      <th>0</th>\n",
       "      <td>B</td>\n",
       "      <td>812</td>\n",
       "      <td>153</td>\n",
       "      <td>50706.193972</td>\n",
       "    </tr>\n",
       "    <tr>\n",
       "      <th>1</th>\n",
       "      <td>A</td>\n",
       "      <td>806</td>\n",
       "      <td>203</td>\n",
       "      <td>39050.620119</td>\n",
       "    </tr>\n",
       "  </tbody>\n",
       "</table>\n",
       "</div>"
      ],
      "text/plain": [
       "  variant  tot_users  tot_bookings   tot_revenue\n",
       "0       B        812           153  50706.193972\n",
       "1       A        806           203  39050.620119"
      ]
     },
     "execution_count": 8,
     "metadata": {},
     "output_type": "execute_result"
    }
   ],
   "source": [
    "experiment.reset_index().rename(columns={\"index\": \"variant\"})"
   ]
  },
  {
   "cell_type": "code",
   "execution_count": 9,
   "metadata": {},
   "outputs": [],
   "source": [
    "experiment[\"cvr\"] = experiment[\"tot_bookings\"] / experiment[\"tot_users\"]\n",
    "experiment[\"rpu\"] = experiment[\"tot_revenue\"] / experiment[\"tot_users\"]"
   ]
  },
  {
   "cell_type": "code",
   "execution_count": 10,
   "metadata": {},
   "outputs": [
    {
     "data": {
      "text/html": [
       "<div>\n",
       "<style scoped>\n",
       "    .dataframe tbody tr th:only-of-type {\n",
       "        vertical-align: middle;\n",
       "    }\n",
       "\n",
       "    .dataframe tbody tr th {\n",
       "        vertical-align: top;\n",
       "    }\n",
       "\n",
       "    .dataframe thead th {\n",
       "        text-align: right;\n",
       "    }\n",
       "</style>\n",
       "<table border=\"1\" class=\"dataframe\">\n",
       "  <thead>\n",
       "    <tr style=\"text-align: right;\">\n",
       "      <th></th>\n",
       "      <th>tot_users</th>\n",
       "      <th>tot_bookings</th>\n",
       "      <th>tot_revenue</th>\n",
       "      <th>cvr</th>\n",
       "      <th>rpu</th>\n",
       "    </tr>\n",
       "  </thead>\n",
       "  <tbody>\n",
       "    <tr>\n",
       "      <th>B</th>\n",
       "      <td>812</td>\n",
       "      <td>153</td>\n",
       "      <td>50706.193972</td>\n",
       "      <td>0.188424</td>\n",
       "      <td>62.446052</td>\n",
       "    </tr>\n",
       "    <tr>\n",
       "      <th>A</th>\n",
       "      <td>806</td>\n",
       "      <td>203</td>\n",
       "      <td>39050.620119</td>\n",
       "      <td>0.251861</td>\n",
       "      <td>48.449901</td>\n",
       "    </tr>\n",
       "  </tbody>\n",
       "</table>\n",
       "</div>"
      ],
      "text/plain": [
       "   tot_users  tot_bookings   tot_revenue       cvr        rpu\n",
       "B        812           153  50706.193972  0.188424  62.446052\n",
       "A        806           203  39050.620119  0.251861  48.449901"
      ]
     },
     "execution_count": 10,
     "metadata": {},
     "output_type": "execute_result"
    }
   ],
   "source": [
    "experiment"
   ]
  },
  {
   "cell_type": "code",
   "execution_count": 11,
   "metadata": {},
   "outputs": [
    {
     "data": {
      "text/html": [
       "<div>\n",
       "<style scoped>\n",
       "    .dataframe tbody tr th:only-of-type {\n",
       "        vertical-align: middle;\n",
       "    }\n",
       "\n",
       "    .dataframe tbody tr th {\n",
       "        vertical-align: top;\n",
       "    }\n",
       "\n",
       "    .dataframe thead th {\n",
       "        text-align: right;\n",
       "    }\n",
       "</style>\n",
       "<table border=\"1\" class=\"dataframe\">\n",
       "  <thead>\n",
       "    <tr style=\"text-align: right;\">\n",
       "      <th></th>\n",
       "      <th>index</th>\n",
       "      <th>tot_users</th>\n",
       "      <th>tot_bookings</th>\n",
       "      <th>tot_revenue</th>\n",
       "      <th>cvr</th>\n",
       "      <th>rpu</th>\n",
       "    </tr>\n",
       "  </thead>\n",
       "  <tbody>\n",
       "    <tr>\n",
       "      <th>0</th>\n",
       "      <td>B</td>\n",
       "      <td>812</td>\n",
       "      <td>153</td>\n",
       "      <td>50706.193972</td>\n",
       "      <td>0.188424</td>\n",
       "      <td>62.446052</td>\n",
       "    </tr>\n",
       "    <tr>\n",
       "      <th>1</th>\n",
       "      <td>A</td>\n",
       "      <td>806</td>\n",
       "      <td>203</td>\n",
       "      <td>39050.620119</td>\n",
       "      <td>0.251861</td>\n",
       "      <td>48.449901</td>\n",
       "    </tr>\n",
       "  </tbody>\n",
       "</table>\n",
       "</div>"
      ],
      "text/plain": [
       "  index  tot_users  tot_bookings   tot_revenue       cvr        rpu\n",
       "0     B        812           153  50706.193972  0.188424  62.446052\n",
       "1     A        806           203  39050.620119  0.251861  48.449901"
      ]
     },
     "execution_count": 11,
     "metadata": {},
     "output_type": "execute_result"
    }
   ],
   "source": [
    "experiment.reset_index()"
   ]
  },
  {
   "cell_type": "code",
   "execution_count": 29,
   "metadata": {},
   "outputs": [],
   "source": [
    "revenue_df = (\n",
    "    clean_logs.fillna({\"revenue\": 0})\n",
    "    .groupby(\"user_id\")\n",
    "    .agg(\n",
    "        revenue=(\"revenue\", \"sum\"), variant=(\"variant\", \"first\"), city=(\"city\", \"first\")\n",
    "    )\n",
    ")\n"
   ]
  },
  {
   "cell_type": "code",
   "execution_count": 30,
   "metadata": {},
   "outputs": [],
   "source": [
    "revenue_df[\"conversion\"] = (revenue_df[\"revenue\"] > 0).astype(float)"
   ]
  },
  {
   "cell_type": "code",
   "execution_count": 14,
   "metadata": {},
   "outputs": [
    {
     "data": {
      "text/html": [
       "<div>\n",
       "<style scoped>\n",
       "    .dataframe tbody tr th:only-of-type {\n",
       "        vertical-align: middle;\n",
       "    }\n",
       "\n",
       "    .dataframe tbody tr th {\n",
       "        vertical-align: top;\n",
       "    }\n",
       "\n",
       "    .dataframe thead th {\n",
       "        text-align: right;\n",
       "    }\n",
       "</style>\n",
       "<table border=\"1\" class=\"dataframe\">\n",
       "  <thead>\n",
       "    <tr style=\"text-align: right;\">\n",
       "      <th></th>\n",
       "      <th>revenue</th>\n",
       "      <th>variant</th>\n",
       "      <th>conversion</th>\n",
       "    </tr>\n",
       "    <tr>\n",
       "      <th>user_id</th>\n",
       "      <th></th>\n",
       "      <th></th>\n",
       "      <th></th>\n",
       "    </tr>\n",
       "  </thead>\n",
       "  <tbody>\n",
       "    <tr>\n",
       "      <th>100484273</th>\n",
       "      <td>0.000000</td>\n",
       "      <td>B</td>\n",
       "      <td>0.0</td>\n",
       "    </tr>\n",
       "    <tr>\n",
       "      <th>101079600</th>\n",
       "      <td>203.522684</td>\n",
       "      <td>A</td>\n",
       "      <td>1.0</td>\n",
       "    </tr>\n",
       "    <tr>\n",
       "      <th>101167498</th>\n",
       "      <td>0.000000</td>\n",
       "      <td>A</td>\n",
       "      <td>0.0</td>\n",
       "    </tr>\n",
       "    <tr>\n",
       "      <th>101196311</th>\n",
       "      <td>0.000000</td>\n",
       "      <td>B</td>\n",
       "      <td>0.0</td>\n",
       "    </tr>\n",
       "    <tr>\n",
       "      <th>101428127</th>\n",
       "      <td>0.000000</td>\n",
       "      <td>A</td>\n",
       "      <td>0.0</td>\n",
       "    </tr>\n",
       "  </tbody>\n",
       "</table>\n",
       "</div>"
      ],
      "text/plain": [
       "              revenue variant  conversion\n",
       "user_id                                  \n",
       "100484273    0.000000       B         0.0\n",
       "101079600  203.522684       A         1.0\n",
       "101167498    0.000000       A         0.0\n",
       "101196311    0.000000       B         0.0\n",
       "101428127    0.000000       A         0.0"
      ]
     },
     "execution_count": 14,
     "metadata": {},
     "output_type": "execute_result"
    }
   ],
   "source": [
    "revenue_df.head()"
   ]
  },
  {
   "cell_type": "code",
   "execution_count": 15,
   "metadata": {},
   "outputs": [
    {
     "data": {
      "text/plain": [
       "0.11191063201347609"
      ]
     },
     "execution_count": 15,
     "metadata": {},
     "output_type": "execute_result"
    }
   ],
   "source": [
    "group_A = revenue_df[revenue_df[\"variant\"] == \"A\"][\"conversion\"]\n",
    "group_B = revenue_df[revenue_df[\"variant\"] == \"B\"][\"conversion\"]\n",
    "ttest = ztest(group_A, group_B, alternative=\"two-sided\")\n",
    "ttest[1]*100"
   ]
  },
  {
   "cell_type": "code",
   "execution_count": 16,
   "metadata": {},
   "outputs": [
    {
     "data": {
      "text/plain": [
       "0.11191063201347609"
      ]
     },
     "execution_count": 16,
     "metadata": {},
     "output_type": "execute_result"
    }
   ],
   "source": [
    "ttest = ztest(group_A, group_B, alternative=\"larger\")\n",
    "2*ttest[1]*100"
   ]
  },
  {
   "cell_type": "code",
   "execution_count": 17,
   "metadata": {},
   "outputs": [],
   "source": [
    "mean_id = (\n",
    "    revenue_df.reset_index()\n",
    "    .assign(last_digit=lambda x: x[\"user_id\"].str[-1])\n",
    "    .groupby([\"last_digit\", \"variant\"])\n",
    "    .agg(mean_revenue=(\"revenue\", \"mean\"))\n",
    "    .reset_index()\n",
    ")\n"
   ]
  },
  {
   "cell_type": "code",
   "execution_count": 18,
   "metadata": {},
   "outputs": [
    {
     "data": {
      "text/html": [
       "<div>\n",
       "<style scoped>\n",
       "    .dataframe tbody tr th:only-of-type {\n",
       "        vertical-align: middle;\n",
       "    }\n",
       "\n",
       "    .dataframe tbody tr th {\n",
       "        vertical-align: top;\n",
       "    }\n",
       "\n",
       "    .dataframe thead th {\n",
       "        text-align: right;\n",
       "    }\n",
       "</style>\n",
       "<table border=\"1\" class=\"dataframe\">\n",
       "  <thead>\n",
       "    <tr style=\"text-align: right;\">\n",
       "      <th></th>\n",
       "      <th>last_digit</th>\n",
       "      <th>variant</th>\n",
       "      <th>mean_revenue</th>\n",
       "    </tr>\n",
       "  </thead>\n",
       "  <tbody>\n",
       "    <tr>\n",
       "      <th>0</th>\n",
       "      <td>0</td>\n",
       "      <td>A</td>\n",
       "      <td>49.769840</td>\n",
       "    </tr>\n",
       "    <tr>\n",
       "      <th>1</th>\n",
       "      <td>0</td>\n",
       "      <td>B</td>\n",
       "      <td>55.290858</td>\n",
       "    </tr>\n",
       "    <tr>\n",
       "      <th>2</th>\n",
       "      <td>1</td>\n",
       "      <td>A</td>\n",
       "      <td>45.669111</td>\n",
       "    </tr>\n",
       "    <tr>\n",
       "      <th>3</th>\n",
       "      <td>1</td>\n",
       "      <td>B</td>\n",
       "      <td>62.577492</td>\n",
       "    </tr>\n",
       "    <tr>\n",
       "      <th>4</th>\n",
       "      <td>2</td>\n",
       "      <td>A</td>\n",
       "      <td>48.358962</td>\n",
       "    </tr>\n",
       "    <tr>\n",
       "      <th>5</th>\n",
       "      <td>2</td>\n",
       "      <td>B</td>\n",
       "      <td>44.283024</td>\n",
       "    </tr>\n",
       "    <tr>\n",
       "      <th>6</th>\n",
       "      <td>3</td>\n",
       "      <td>A</td>\n",
       "      <td>61.530252</td>\n",
       "    </tr>\n",
       "    <tr>\n",
       "      <th>7</th>\n",
       "      <td>3</td>\n",
       "      <td>B</td>\n",
       "      <td>55.627575</td>\n",
       "    </tr>\n",
       "    <tr>\n",
       "      <th>8</th>\n",
       "      <td>4</td>\n",
       "      <td>A</td>\n",
       "      <td>45.579691</td>\n",
       "    </tr>\n",
       "    <tr>\n",
       "      <th>9</th>\n",
       "      <td>4</td>\n",
       "      <td>B</td>\n",
       "      <td>74.339907</td>\n",
       "    </tr>\n",
       "    <tr>\n",
       "      <th>10</th>\n",
       "      <td>5</td>\n",
       "      <td>A</td>\n",
       "      <td>50.101364</td>\n",
       "    </tr>\n",
       "    <tr>\n",
       "      <th>11</th>\n",
       "      <td>5</td>\n",
       "      <td>B</td>\n",
       "      <td>79.654300</td>\n",
       "    </tr>\n",
       "    <tr>\n",
       "      <th>12</th>\n",
       "      <td>6</td>\n",
       "      <td>A</td>\n",
       "      <td>42.519136</td>\n",
       "    </tr>\n",
       "    <tr>\n",
       "      <th>13</th>\n",
       "      <td>6</td>\n",
       "      <td>B</td>\n",
       "      <td>58.385962</td>\n",
       "    </tr>\n",
       "    <tr>\n",
       "      <th>14</th>\n",
       "      <td>7</td>\n",
       "      <td>A</td>\n",
       "      <td>52.971642</td>\n",
       "    </tr>\n",
       "    <tr>\n",
       "      <th>15</th>\n",
       "      <td>7</td>\n",
       "      <td>B</td>\n",
       "      <td>47.270808</td>\n",
       "    </tr>\n",
       "    <tr>\n",
       "      <th>16</th>\n",
       "      <td>8</td>\n",
       "      <td>A</td>\n",
       "      <td>46.260456</td>\n",
       "    </tr>\n",
       "    <tr>\n",
       "      <th>17</th>\n",
       "      <td>8</td>\n",
       "      <td>B</td>\n",
       "      <td>73.812811</td>\n",
       "    </tr>\n",
       "    <tr>\n",
       "      <th>18</th>\n",
       "      <td>9</td>\n",
       "      <td>A</td>\n",
       "      <td>44.644753</td>\n",
       "    </tr>\n",
       "    <tr>\n",
       "      <th>19</th>\n",
       "      <td>9</td>\n",
       "      <td>B</td>\n",
       "      <td>71.160589</td>\n",
       "    </tr>\n",
       "  </tbody>\n",
       "</table>\n",
       "</div>"
      ],
      "text/plain": [
       "   last_digit variant  mean_revenue\n",
       "0           0       A     49.769840\n",
       "1           0       B     55.290858\n",
       "2           1       A     45.669111\n",
       "3           1       B     62.577492\n",
       "4           2       A     48.358962\n",
       "5           2       B     44.283024\n",
       "6           3       A     61.530252\n",
       "7           3       B     55.627575\n",
       "8           4       A     45.579691\n",
       "9           4       B     74.339907\n",
       "10          5       A     50.101364\n",
       "11          5       B     79.654300\n",
       "12          6       A     42.519136\n",
       "13          6       B     58.385962\n",
       "14          7       A     52.971642\n",
       "15          7       B     47.270808\n",
       "16          8       A     46.260456\n",
       "17          8       B     73.812811\n",
       "18          9       A     44.644753\n",
       "19          9       B     71.160589"
      ]
     },
     "execution_count": 18,
     "metadata": {},
     "output_type": "execute_result"
    }
   ],
   "source": [
    "mean_id"
   ]
  },
  {
   "cell_type": "code",
   "execution_count": 46,
   "metadata": {},
   "outputs": [],
   "source": [
    "def ab_test(dataframe, group, target, z_test=False):\n",
    "    # modified from\n",
    "    # https://www.kaggle.com/ekrembayar/a-b-testing-step-by-step-hypothesis-testing\n",
    "    # Split A/B\n",
    "    group_A = dataframe[dataframe[group] == \"A\"][target]\n",
    "    group_B = dataframe[dataframe[group] == \"B\"][target]\n",
    "\n",
    "    ks_test = st.kstest(group_A, group_B)[1]\n",
    "\n",
    "    # Assumption: Normality\n",
    "    norm_A = st.shapiro(group_A)[1]\n",
    "    norm_B = st.shapiro(group_B)[1]\n",
    "    nt_A = norm_A < 0.05\n",
    "    nt_B = norm_B < 0.05\n",
    "    # H0: Distribution is Normal! - False\n",
    "    # H1: Distribution is not Normal! - True\n",
    "\n",
    "    if z_test:\n",
    "        ttest = ztest(group_A, group_B)[1]\n",
    "    # \"H0: Normal Distribution\"\n",
    "    elif not nt_A and not nt_B:\n",
    "        # Parametric Test\n",
    "        # Assumption: Homogeneity of variances\n",
    "        leveneTest = st.levene(group_A, group_B)[1] < 0.05\n",
    "        # H0: Homogeneity: False\n",
    "        # H1: Heterogeneous: True\n",
    "\n",
    "        if leveneTest == False:\n",
    "            # Homogeneity\n",
    "            ttest = st.ttest_ind(group_A, group_B, equal_var=True)[1]\n",
    "            # H0: M1 == M2 - False\n",
    "            # H1: M1 != M2 - True\n",
    "        else:\n",
    "            # Heterogeneous\n",
    "            ttest = st.ttest_ind(group_A, group_B, equal_var=False)[1]\n",
    "            # H0: M1 == M2 - False\n",
    "            # H1: M1 != M2 - True\n",
    "    else:\n",
    "        # Non-Parametric Test\n",
    "        ttest = st.mannwhitneyu(group_A, group_B)[1]\n",
    "        # H0: M1 == M2 - False\n",
    "        # H1: M1 != M2 - True\n",
    "\n",
    "    # Result\n",
    "    temp = pd.DataFrame({\"AB Hypothesis\": [ttest < 0.05], \"p-value\": [ttest]})\n",
    "    temp[\"Test Type\"] = np.where(\n",
    "        (not nt_A) & (not nt_B), \"Parametric\", \"Non-Parametric\"\n",
    "    )\n",
    "    temp[\"AB Hypothesis\"] = np.where(\n",
    "        temp[\"AB Hypothesis\"] == False, \"Fail to Reject H0\", \"Reject H0\"\n",
    "    )\n",
    "    temp = temp.assign(\n",
    "        Shapiro_A=norm_A,\n",
    "        Shapiro_B=norm_B,\n",
    "        Kolmogorov_Smirnov_test=ks_test,\n",
    "    )\n",
    "\n",
    "    # Columns\n",
    "    if not nt_A and not nt_B:\n",
    "        temp[\"Homogeneity\"] = np.where(leveneTest == False, \"Yes\", \"No\")\n",
    "        temp = temp[\n",
    "            [\n",
    "                \"Shapiro_A\",\n",
    "                \"Shapiro_B\",\n",
    "                \"Kolmogorov_Smirnov_test\",\n",
    "                \"Test Type\",\n",
    "                \"Homogeneity\",\n",
    "                \"AB Hypothesis\",\n",
    "                \"p-value\",\n",
    "            ]\n",
    "        ]\n",
    "    else:\n",
    "        temp = temp[\n",
    "            [\n",
    "                \"Shapiro_A\",\n",
    "                \"Shapiro_B\",\n",
    "                \"Kolmogorov_Smirnov_test\",\n",
    "                \"Test Type\",\n",
    "                \"AB Hypothesis\",\n",
    "                \"p-value\",\n",
    "            ]\n",
    "        ]\n",
    "\n",
    "    return temp"
   ]
  },
  {
   "cell_type": "code",
   "execution_count": 47,
   "metadata": {},
   "outputs": [
    {
     "data": {
      "text/html": [
       "<div>\n",
       "<style scoped>\n",
       "    .dataframe tbody tr th:only-of-type {\n",
       "        vertical-align: middle;\n",
       "    }\n",
       "\n",
       "    .dataframe tbody tr th {\n",
       "        vertical-align: top;\n",
       "    }\n",
       "\n",
       "    .dataframe thead th {\n",
       "        text-align: right;\n",
       "    }\n",
       "</style>\n",
       "<table border=\"1\" class=\"dataframe\">\n",
       "  <thead>\n",
       "    <tr style=\"text-align: right;\">\n",
       "      <th></th>\n",
       "      <th>Shapiro_A</th>\n",
       "      <th>Shapiro_B</th>\n",
       "      <th>Kolmogorov_Smirnov_test</th>\n",
       "      <th>Test Type</th>\n",
       "      <th>AB Hypothesis</th>\n",
       "      <th>p-value</th>\n",
       "    </tr>\n",
       "  </thead>\n",
       "  <tbody>\n",
       "    <tr>\n",
       "      <th>0</th>\n",
       "      <td>1.102682e-41</td>\n",
       "      <td>7.707142e-44</td>\n",
       "      <td>0.056292</td>\n",
       "      <td>Non-Parametric</td>\n",
       "      <td>Reject H0</td>\n",
       "      <td>0.001119</td>\n",
       "    </tr>\n",
       "  </tbody>\n",
       "</table>\n",
       "</div>"
      ],
      "text/plain": [
       "      Shapiro_A     Shapiro_B  Kolmogorov_Smirnov_test       Test Type  \\\n",
       "0  1.102682e-41  7.707142e-44                 0.056292  Non-Parametric   \n",
       "\n",
       "  AB Hypothesis   p-value  \n",
       "0     Reject H0  0.001119  "
      ]
     },
     "execution_count": 47,
     "metadata": {},
     "output_type": "execute_result"
    }
   ],
   "source": [
    "ab_test(revenue_df, \"variant\", \"conversion\", z_test=True)"
   ]
  },
  {
   "cell_type": "code",
   "execution_count": 32,
   "metadata": {},
   "outputs": [
    {
     "data": {
      "text/html": [
       "<div>\n",
       "<style scoped>\n",
       "    .dataframe tbody tr th:only-of-type {\n",
       "        vertical-align: middle;\n",
       "    }\n",
       "\n",
       "    .dataframe tbody tr th {\n",
       "        vertical-align: top;\n",
       "    }\n",
       "\n",
       "    .dataframe thead th {\n",
       "        text-align: right;\n",
       "    }\n",
       "</style>\n",
       "<table border=\"1\" class=\"dataframe\">\n",
       "  <thead>\n",
       "    <tr style=\"text-align: right;\">\n",
       "      <th></th>\n",
       "      <th>Shapiro_A</th>\n",
       "      <th>Shapiro_B</th>\n",
       "      <th>Kolmogorov_Smirnov_test</th>\n",
       "      <th>Test Type</th>\n",
       "      <th>Homogeneity</th>\n",
       "      <th>AB Hypothesis</th>\n",
       "      <th>p-value</th>\n",
       "    </tr>\n",
       "  </thead>\n",
       "  <tbody>\n",
       "    <tr>\n",
       "      <th>0</th>\n",
       "      <td>0.10067</td>\n",
       "      <td>0.590911</td>\n",
       "      <td>0.012341</td>\n",
       "      <td>Parametric</td>\n",
       "      <td>No</td>\n",
       "      <td>Reject H0</td>\n",
       "      <td>0.007025</td>\n",
       "    </tr>\n",
       "  </tbody>\n",
       "</table>\n",
       "</div>"
      ],
      "text/plain": [
       "   Shapiro_A  Shapiro_B  Kolmogorov_Smirnov_test   Test Type Homogeneity  \\\n",
       "0    0.10067   0.590911                 0.012341  Parametric          No   \n",
       "\n",
       "  AB Hypothesis   p-value  \n",
       "0     Reject H0  0.007025  "
      ]
     },
     "execution_count": 32,
     "metadata": {},
     "output_type": "execute_result"
    }
   ],
   "source": [
    "ab_test(mean_id, \"variant\", \"mean_revenue\")"
   ]
  },
  {
   "cell_type": "markdown",
   "metadata": {},
   "source": [
    "## Bootstrapping"
   ]
  },
  {
   "cell_type": "code",
   "execution_count": 16,
   "metadata": {},
   "outputs": [],
   "source": [
    "def bootstrap_samples(dataframe, group, target, n_resamples, rng=None):\n",
    "    if rng is None:\n",
    "        rng = default_rng()\n",
    "    samples = []\n",
    "    # Split A/B\n",
    "    group_A = dataframe[dataframe[group] == \"A\"][target]\n",
    "    size_A = len(group_A)\n",
    "    group_B = dataframe[dataframe[group] == \"B\"][target]\n",
    "    size_B = len(group_B)\n",
    "    mean_A = np.mean(group_A)\n",
    "    mean_B = np.mean(group_B)\n",
    "    tot_mean = dataframe[target].mean()\n",
    "    var_A = np.var(group_A)\n",
    "    var_B = np.var(group_B)\n",
    "    print(f\"Mean A: {mean_A}; Variance A: {var_A}\")\n",
    "    print(f\"Mean B: {mean_B}; Variance B: {var_B}\")\n",
    "    t = (mean_B - mean_A) / np.sqrt((var_B / size_B) + (var_A / size_A))\n",
    "    print(f\"t-statistic: {t}\")\n",
    "    for _ in range(n_resamples):\n",
    "        sample_A = rng.choice(group_A - mean_A + tot_mean, size=size_A, replace=True)\n",
    "        sample_B = rng.choice(group_B - mean_B + tot_mean, size=size_B, replace=True)\n",
    "        bs_mean_A = np.mean(sample_A)\n",
    "        bs_mean_B = np.mean(sample_B)\n",
    "        bs_var_A = np.var(sample_A)\n",
    "        bs_var_B = np.var(sample_B)\n",
    "        bs_t = (bs_mean_B - bs_mean_A) / np.sqrt(\n",
    "            (bs_var_B / size_B) + (bs_var_A / size_A)\n",
    "        )\n",
    "        samples.append(bs_t)\n",
    "    return t, np.array(samples)\n"
   ]
  },
  {
   "cell_type": "code",
   "execution_count": 17,
   "metadata": {},
   "outputs": [
    {
     "name": "stdout",
     "output_type": "stream",
     "text": [
      "Mean A: 48.44990089201871; Variance A: 7453.320318687969\n",
      "Mean B: 62.44605168996497; Variance B: 18273.436106215464\n",
      "t-statistic: 2.48385536106096\n"
     ]
    }
   ],
   "source": [
    "t, samples = bootstrap_samples(revenue_df, \"variant\", \"revenue\", 10_000, rng)"
   ]
  },
  {
   "cell_type": "code",
   "execution_count": 18,
   "metadata": {},
   "outputs": [
    {
     "data": {
      "text/plain": [
       "0.0057"
      ]
     },
     "execution_count": 18,
     "metadata": {},
     "output_type": "execute_result"
    }
   ],
   "source": [
    "np.mean(samples > t)"
   ]
  },
  {
   "cell_type": "code",
   "execution_count": 19,
   "metadata": {},
   "outputs": [
    {
     "data": {
      "text/plain": [
       "<matplotlib.lines.Line2D at 0x7f61f2f98730>"
      ]
     },
     "execution_count": 19,
     "metadata": {},
     "output_type": "execute_result"
    },
    {
     "data": {
      "image/png": "[encoded data removed]",
      "image/svg+xml": "<?xml version=\"1.0\" encoding=\"utf-8\" standalone=\"no\"?>\n<!DOCTYPE svg PUBLIC \"-//W3C//DTD SVG 1.1//EN\"\n  \"http://www.w3.org/Graphics/SVG/1.1/DTD/svg11.dtd\">\n<svg xmlns:xlink=\"http://www.w3.org/1999/xlink\" width=\"352.690625pt\" height=\"352.478125pt\" viewBox=\"0 0 352.690625 352.478125\" xmlns=\"http://www.w3.org/2000/svg\" version=\"1.1\">\n <metadata>\n  <rdf:RDF xmlns:dc=\"http://purl.org/dc/elements/1.1/\" xmlns:cc=\"http://creativecommons.org/ns#\" xmlns:rdf=\"http://www.w3.org/1999/02/22-rdf-syntax-ns#\">\n   <cc:Work>\n    <dc:type rdf:resource=\"http://purl.org/dc/dcmitype/StillImage\"/>\n    <dc:date>2021-12-07T19:50:07.113583</dc:date>\n    <dc:format>image/svg+xml</dc:format>\n    <dc:creator>\n     <cc:Agent>\n      <dc:title>Matplotlib v3.5.0, https://matplotlib.org/</dc:title>\n     </cc:Agent>\n    </dc:creator>\n   </cc:Work>\n  </rdf:RDF>\n </metadata>\n <defs>\n  <style type=\"text/css\">*{stroke-linejoin: round; stroke-linecap: butt}</style>\n </defs>\n <g id=\"figure_1\">\n  <g id=\"patch_1\">\n   <path d=\"M 0 352.478125 \nL 352.690625 352.478125 \nL 352.690625 0 \nL 0 0 \nL 0 352.478125 \nz\n\" style=\"fill: none\"/>\n  </g>\n  <g id=\"axes_1\">\n   <g id=\"patch_2\">\n    <path d=\"M 46.965625 328.6 \nL 345.490625 328.6 \nL 345.490625 7.2 \nL 46.965625 7.2 \nz\n\" style=\"fill: #ffffff\"/>\n   </g>\n   <g id=\"patch_3\">\n    <path d=\"M 60.534943 328.6 \nL 64.585486 328.6 \nL 64.585486 327.998634 \nL 60.534943 327.998634 \nz\n\" clip-path=\"url(#pe293735849)\" style=\"fill: #1f77b4; fill-opacity: 0.75; stroke: #000000; stroke-width: 0.417351; stroke-linejoin: miter\"/>\n   </g>\n   <g id=\"patch_4\">\n    <path d=\"M 64.585486 328.6 \nL 68.636029 328.6 \nL 68.636029 328.6 \nL 64.585486 328.6 \nz\n\" clip-path=\"url(#pe293735849)\" style=\"fill: #1f77b4; fill-opacity: 0.75; stroke: #000000; stroke-width: 0.417351; stroke-linejoin: miter\"/>\n   </g>\n   <g id=\"patch_5\">\n    <path d=\"M 68.636029 328.6 \nL 72.686571 328.6 \nL 72.686571 328.6 \nL 68.636029 328.6 \nz\n\" clip-path=\"url(#pe293735849)\" style=\"fill: #1f77b4; fill-opacity: 0.75; stroke: #000000; stroke-width: 0.417351; stroke-linejoin: miter\"/>\n   </g>\n   <g id=\"patch_6\">\n    <path d=\"M 72.686571 328.6 \nL 76.737114 328.6 \nL 76.737114 328.6 \nL 72.686571 328.6 \nz\n\" clip-path=\"url(#pe293735849)\" style=\"fill: #1f77b4; fill-opacity: 0.75; stroke: #000000; stroke-width: 0.417351; stroke-linejoin: miter\"/>\n   </g>\n   <g id=\"patch_7\">\n    <path d=\"M 76.737114 328.6 \nL 80.787657 328.6 \nL 80.787657 326.795902 \nL 76.737114 326.795902 \nz\n\" clip-path=\"url(#pe293735849)\" style=\"fill: #1f77b4; fill-opacity: 0.75; stroke: #000000; stroke-width: 0.417351; stroke-linejoin: miter\"/>\n   </g>\n   <g id=\"patch_8\">\n    <path d=\"M 80.787657 328.6 \nL 84.8382 328.6 \nL 84.8382 327.998634 \nL 80.787657 327.998634 \nz\n\" clip-path=\"url(#pe293735849)\" style=\"fill: #1f77b4; fill-opacity: 0.75; stroke: #000000; stroke-width: 0.417351; stroke-linejoin: miter\"/>\n   </g>\n   <g id=\"patch_9\">\n    <path d=\"M 84.8382 328.6 \nL 88.888742 328.6 \nL 88.888742 327.998634 \nL 84.8382 327.998634 \nz\n\" clip-path=\"url(#pe293735849)\" style=\"fill: #1f77b4; fill-opacity: 0.75; stroke: #000000; stroke-width: 0.417351; stroke-linejoin: miter\"/>\n   </g>\n   <g id=\"patch_10\">\n    <path d=\"M 88.888742 328.6 \nL 92.939285 328.6 \nL 92.939285 327.397268 \nL 88.888742 327.397268 \nz\n\" clip-path=\"url(#pe293735849)\" style=\"fill: #1f77b4; fill-opacity: 0.75; stroke: #000000; stroke-width: 0.417351; stroke-linejoin: miter\"/>\n   </g>\n   <g id=\"patch_11\">\n    <path d=\"M 92.939285 328.6 \nL 96.989828 328.6 \nL 96.989828 327.998634 \nL 92.939285 327.998634 \nz\n\" clip-path=\"url(#pe293735849)\" style=\"fill: #1f77b4; fill-opacity: 0.75; stroke: #000000; stroke-width: 0.417351; stroke-linejoin: miter\"/>\n   </g>\n   <g id=\"patch_12\">\n    <path d=\"M 96.989828 328.6 \nL 101.040371 328.6 \nL 101.040371 327.998634 \nL 96.989828 327.998634 \nz\n\" clip-path=\"url(#pe293735849)\" style=\"fill: #1f77b4; fill-opacity: 0.75; stroke: #000000; stroke-width: 0.417351; stroke-linejoin: miter\"/>\n   </g>\n   <g id=\"patch_13\">\n    <path d=\"M 101.040371 328.6 \nL 105.090913 328.6 \nL 105.090913 326.795902 \nL 101.040371 326.795902 \nz\n\" clip-path=\"url(#pe293735849)\" style=\"fill: #1f77b4; fill-opacity: 0.75; stroke: #000000; stroke-width: 0.417351; stroke-linejoin: miter\"/>\n   </g>\n   <g id=\"patch_14\">\n    <path d=\"M 105.090913 328.6 \nL 109.141456 328.6 \nL 109.141456 326.194536 \nL 105.090913 326.194536 \nz\n\" clip-path=\"url(#pe293735849)\" style=\"fill: #1f77b4; fill-opacity: 0.75; stroke: #000000; stroke-width: 0.417351; stroke-linejoin: miter\"/>\n   </g>\n   <g id=\"patch_15\">\n    <path d=\"M 109.141456 328.6 \nL 113.191999 328.6 \nL 113.191999 326.194536 \nL 109.141456 326.194536 \nz\n\" clip-path=\"url(#pe293735849)\" style=\"fill: #1f77b4; fill-opacity: 0.75; stroke: #000000; stroke-width: 0.417351; stroke-linejoin: miter\"/>\n   </g>\n   <g id=\"patch_16\">\n    <path d=\"M 113.191999 328.6 \nL 117.242542 328.6 \nL 117.242542 321.383609 \nL 113.191999 321.383609 \nz\n\" clip-path=\"url(#pe293735849)\" style=\"fill: #1f77b4; fill-opacity: 0.75; stroke: #000000; stroke-width: 0.417351; stroke-linejoin: miter\"/>\n   </g>\n   <g id=\"patch_17\">\n    <path d=\"M 117.242542 328.6 \nL 121.293084 328.6 \nL 121.293084 321.383609 \nL 117.242542 321.383609 \nz\n\" clip-path=\"url(#pe293735849)\" style=\"fill: #1f77b4; fill-opacity: 0.75; stroke: #000000; stroke-width: 0.417351; stroke-linejoin: miter\"/>\n   </g>\n   <g id=\"patch_18\">\n    <path d=\"M 121.293084 328.6 \nL 125.343627 328.6 \nL 125.343627 314.768585 \nL 121.293084 314.768585 \nz\n\" clip-path=\"url(#pe293735849)\" style=\"fill: #1f77b4; fill-opacity: 0.75; stroke: #000000; stroke-width: 0.417351; stroke-linejoin: miter\"/>\n   </g>\n   <g id=\"patch_19\">\n    <path d=\"M 125.343627 328.6 \nL 129.39417 328.6 \nL 129.39417 306.950828 \nL 125.343627 306.950828 \nz\n\" clip-path=\"url(#pe293735849)\" style=\"fill: #1f77b4; fill-opacity: 0.75; stroke: #000000; stroke-width: 0.417351; stroke-linejoin: miter\"/>\n   </g>\n   <g id=\"patch_20\">\n    <path d=\"M 129.39417 328.6 \nL 133.444713 328.6 \nL 133.444713 306.349462 \nL 129.39417 306.349462 \nz\n\" clip-path=\"url(#pe293735849)\" style=\"fill: #1f77b4; fill-opacity: 0.75; stroke: #000000; stroke-width: 0.417351; stroke-linejoin: miter\"/>\n   </g>\n   <g id=\"patch_21\">\n    <path d=\"M 133.444713 328.6 \nL 137.495255 328.6 \nL 137.495255 306.349462 \nL 133.444713 306.349462 \nz\n\" clip-path=\"url(#pe293735849)\" style=\"fill: #1f77b4; fill-opacity: 0.75; stroke: #000000; stroke-width: 0.417351; stroke-linejoin: miter\"/>\n   </g>\n   <g id=\"patch_22\">\n    <path d=\"M 137.495255 328.6 \nL 141.545798 328.6 \nL 141.545798 299.734437 \nL 137.495255 299.734437 \nz\n\" clip-path=\"url(#pe293735849)\" style=\"fill: #1f77b4; fill-opacity: 0.75; stroke: #000000; stroke-width: 0.417351; stroke-linejoin: miter\"/>\n   </g>\n   <g id=\"patch_23\">\n    <path d=\"M 141.545798 328.6 \nL 145.596341 328.6 \nL 145.596341 292.518047 \nL 141.545798 292.518047 \nz\n\" clip-path=\"url(#pe293735849)\" style=\"fill: #1f77b4; fill-opacity: 0.75; stroke: #000000; stroke-width: 0.417351; stroke-linejoin: miter\"/>\n   </g>\n   <g id=\"patch_24\">\n    <path d=\"M 145.596341 328.6 \nL 149.646883 328.6 \nL 149.646883 276.281168 \nL 145.596341 276.281168 \nz\n\" clip-path=\"url(#pe293735849)\" style=\"fill: #1f77b4; fill-opacity: 0.75; stroke: #000000; stroke-width: 0.417351; stroke-linejoin: miter\"/>\n   </g>\n   <g id=\"patch_25\">\n    <path d=\"M 149.646883 328.6 \nL 153.697426 328.6 \nL 153.697426 258.841557 \nL 149.646883 258.841557 \nz\n\" clip-path=\"url(#pe293735849)\" style=\"fill: #1f77b4; fill-opacity: 0.75; stroke: #000000; stroke-width: 0.417351; stroke-linejoin: miter\"/>\n   </g>\n   <g id=\"patch_26\">\n    <path d=\"M 153.697426 328.6 \nL 157.747969 328.6 \nL 157.747969 240.80058 \nL 153.697426 240.80058 \nz\n\" clip-path=\"url(#pe293735849)\" style=\"fill: #1f77b4; fill-opacity: 0.75; stroke: #000000; stroke-width: 0.417351; stroke-linejoin: miter\"/>\n   </g>\n   <g id=\"patch_27\">\n    <path d=\"M 157.747969 328.6 \nL 161.798512 328.6 \nL 161.798512 220.955506 \nL 157.747969 220.955506 \nz\n\" clip-path=\"url(#pe293735849)\" style=\"fill: #1f77b4; fill-opacity: 0.75; stroke: #000000; stroke-width: 0.417351; stroke-linejoin: miter\"/>\n   </g>\n   <g id=\"patch_28\">\n    <path d=\"M 161.798512 328.6 \nL 165.849054 328.6 \nL 165.849054 221.556872 \nL 161.798512 221.556872 \nz\n\" clip-path=\"url(#pe293735849)\" style=\"fill: #1f77b4; fill-opacity: 0.75; stroke: #000000; stroke-width: 0.417351; stroke-linejoin: miter\"/>\n   </g>\n   <g id=\"patch_29\">\n    <path d=\"M 165.849054 328.6 \nL 169.899597 328.6 \nL 169.899597 182.468089 \nL 165.849054 182.468089 \nz\n\" clip-path=\"url(#pe293735849)\" style=\"fill: #1f77b4; fill-opacity: 0.75; stroke: #000000; stroke-width: 0.417351; stroke-linejoin: miter\"/>\n   </g>\n   <g id=\"patch_30\">\n    <path d=\"M 169.899597 328.6 \nL 173.95014 328.6 \nL 173.95014 165.629844 \nL 169.899597 165.629844 \nz\n\" clip-path=\"url(#pe293735849)\" style=\"fill: #1f77b4; fill-opacity: 0.75; stroke: #000000; stroke-width: 0.417351; stroke-linejoin: miter\"/>\n   </g>\n   <g id=\"patch_31\">\n    <path d=\"M 173.95014 328.6 \nL 178.000683 328.6 \nL 178.000683 145.183403 \nL 173.95014 145.183403 \nz\n\" clip-path=\"url(#pe293735849)\" style=\"fill: #1f77b4; fill-opacity: 0.75; stroke: #000000; stroke-width: 0.417351; stroke-linejoin: miter\"/>\n   </g>\n   <g id=\"patch_32\">\n    <path d=\"M 178.000683 328.6 \nL 182.051225 328.6 \nL 182.051225 136.162915 \nL 178.000683 136.162915 \nz\n\" clip-path=\"url(#pe293735849)\" style=\"fill: #1f77b4; fill-opacity: 0.75; stroke: #000000; stroke-width: 0.417351; stroke-linejoin: miter\"/>\n   </g>\n   <g id=\"patch_33\">\n    <path d=\"M 182.051225 328.6 \nL 186.101768 328.6 \nL 186.101768 86.249546 \nL 182.051225 86.249546 \nz\n\" clip-path=\"url(#pe293735849)\" style=\"fill: #1f77b4; fill-opacity: 0.75; stroke: #000000; stroke-width: 0.417351; stroke-linejoin: miter\"/>\n   </g>\n   <g id=\"patch_34\">\n    <path d=\"M 186.101768 328.6 \nL 190.152311 328.6 \nL 190.152311 89.256376 \nL 186.101768 89.256376 \nz\n\" clip-path=\"url(#pe293735849)\" style=\"fill: #1f77b4; fill-opacity: 0.75; stroke: #000000; stroke-width: 0.417351; stroke-linejoin: miter\"/>\n   </g>\n   <g id=\"patch_35\">\n    <path d=\"M 190.152311 328.6 \nL 194.202854 328.6 \nL 194.202854 70.614033 \nL 190.152311 70.614033 \nz\n\" clip-path=\"url(#pe293735849)\" style=\"fill: #1f77b4; fill-opacity: 0.75; stroke: #000000; stroke-width: 0.417351; stroke-linejoin: miter\"/>\n   </g>\n   <g id=\"patch_36\">\n    <path d=\"M 194.202854 328.6 \nL 198.253396 328.6 \nL 198.253396 43.552568 \nL 194.202854 43.552568 \nz\n\" clip-path=\"url(#pe293735849)\" style=\"fill: #1f77b4; fill-opacity: 0.75; stroke: #000000; stroke-width: 0.417351; stroke-linejoin: miter\"/>\n   </g>\n   <g id=\"patch_37\">\n    <path d=\"M 198.253396 328.6 \nL 202.303939 328.6 \nL 202.303939 36.336177 \nL 198.253396 36.336177 \nz\n\" clip-path=\"url(#pe293735849)\" style=\"fill: #1f77b4; fill-opacity: 0.75; stroke: #000000; stroke-width: 0.417351; stroke-linejoin: miter\"/>\n   </g>\n   <g id=\"patch_38\">\n    <path d=\"M 202.303939 328.6 \nL 206.354482 328.6 \nL 206.354482 29.119787 \nL 202.303939 29.119787 \nz\n\" clip-path=\"url(#pe293735849)\" style=\"fill: #1f77b4; fill-opacity: 0.75; stroke: #000000; stroke-width: 0.417351; stroke-linejoin: miter\"/>\n   </g>\n   <g id=\"patch_39\">\n    <path d=\"M 206.354482 328.6 \nL 210.405025 328.6 \nL 210.405025 46.559398 \nL 206.354482 46.559398 \nz\n\" clip-path=\"url(#pe293735849)\" style=\"fill: #1f77b4; fill-opacity: 0.75; stroke: #000000; stroke-width: 0.417351; stroke-linejoin: miter\"/>\n   </g>\n   <g id=\"patch_40\">\n    <path d=\"M 210.405025 328.6 \nL 214.455567 328.6 \nL 214.455567 22.504762 \nL 210.405025 22.504762 \nz\n\" clip-path=\"url(#pe293735849)\" style=\"fill: #1f77b4; fill-opacity: 0.75; stroke: #000000; stroke-width: 0.417351; stroke-linejoin: miter\"/>\n   </g>\n   <g id=\"patch_41\">\n    <path d=\"M 214.455567 328.6 \nL 218.50611 328.6 \nL 218.50611 33.930714 \nL 214.455567 33.930714 \nz\n\" clip-path=\"url(#pe293735849)\" style=\"fill: #1f77b4; fill-opacity: 0.75; stroke: #000000; stroke-width: 0.417351; stroke-linejoin: miter\"/>\n   </g>\n   <g id=\"patch_42\">\n    <path d=\"M 218.50611 328.6 \nL 222.556653 328.6 \nL 222.556653 57.985349 \nL 218.50611 57.985349 \nz\n\" clip-path=\"url(#pe293735849)\" style=\"fill: #1f77b4; fill-opacity: 0.75; stroke: #000000; stroke-width: 0.417351; stroke-linejoin: miter\"/>\n   </g>\n   <g id=\"patch_43\">\n    <path d=\"M 222.556653 328.6 \nL 226.607196 328.6 \nL 226.607196 54.377154 \nL 222.556653 54.377154 \nz\n\" clip-path=\"url(#pe293735849)\" style=\"fill: #1f77b4; fill-opacity: 0.75; stroke: #000000; stroke-width: 0.417351; stroke-linejoin: miter\"/>\n   </g>\n   <g id=\"patch_44\">\n    <path d=\"M 226.607196 328.6 \nL 230.657738 328.6 \nL 230.657738 80.837253 \nL 226.607196 80.837253 \nz\n\" clip-path=\"url(#pe293735849)\" style=\"fill: #1f77b4; fill-opacity: 0.75; stroke: #000000; stroke-width: 0.417351; stroke-linejoin: miter\"/>\n   </g>\n   <g id=\"patch_45\">\n    <path d=\"M 230.657738 328.6 \nL 234.708281 328.6 \nL 234.708281 131.953354 \nL 230.657738 131.953354 \nz\n\" clip-path=\"url(#pe293735849)\" style=\"fill: #1f77b4; fill-opacity: 0.75; stroke: #000000; stroke-width: 0.417351; stroke-linejoin: miter\"/>\n   </g>\n   <g id=\"patch_46\">\n    <path d=\"M 234.708281 328.6 \nL 238.758824 328.6 \nL 238.758824 127.743793 \nL 234.708281 127.743793 \nz\n\" clip-path=\"url(#pe293735849)\" style=\"fill: #1f77b4; fill-opacity: 0.75; stroke: #000000; stroke-width: 0.417351; stroke-linejoin: miter\"/>\n   </g>\n   <g id=\"patch_47\">\n    <path d=\"M 238.758824 328.6 \nL 242.809367 328.6 \nL 242.809367 154.203892 \nL 238.758824 154.203892 \nz\n\" clip-path=\"url(#pe293735849)\" style=\"fill: #1f77b4; fill-opacity: 0.75; stroke: #000000; stroke-width: 0.417351; stroke-linejoin: miter\"/>\n   </g>\n   <g id=\"patch_48\">\n    <path d=\"M 242.809367 328.6 \nL 246.859909 328.6 \nL 246.859909 169.238039 \nL 242.809367 169.238039 \nz\n\" clip-path=\"url(#pe293735849)\" style=\"fill: #1f77b4; fill-opacity: 0.75; stroke: #000000; stroke-width: 0.417351; stroke-linejoin: miter\"/>\n   </g>\n   <g id=\"patch_49\">\n    <path d=\"M 246.859909 328.6 \nL 250.910452 328.6 \nL 250.910452 186.076284 \nL 246.859909 186.076284 \nz\n\" clip-path=\"url(#pe293735849)\" style=\"fill: #1f77b4; fill-opacity: 0.75; stroke: #000000; stroke-width: 0.417351; stroke-linejoin: miter\"/>\n   </g>\n   <g id=\"patch_50\">\n    <path d=\"M 250.910452 328.6 \nL 254.960995 328.6 \nL 254.960995 206.522724 \nL 250.910452 206.522724 \nz\n\" clip-path=\"url(#pe293735849)\" style=\"fill: #1f77b4; fill-opacity: 0.75; stroke: #000000; stroke-width: 0.417351; stroke-linejoin: miter\"/>\n   </g>\n   <g id=\"patch_51\">\n    <path d=\"M 254.960995 328.6 \nL 259.011537 328.6 \nL 259.011537 225.766433 \nL 254.960995 225.766433 \nz\n\" clip-path=\"url(#pe293735849)\" style=\"fill: #1f77b4; fill-opacity: 0.75; stroke: #000000; stroke-width: 0.417351; stroke-linejoin: miter\"/>\n   </g>\n   <g id=\"patch_52\">\n    <path d=\"M 259.011537 328.6 \nL 263.06208 328.6 \nL 263.06208 253.429264 \nL 259.011537 253.429264 \nz\n\" clip-path=\"url(#pe293735849)\" style=\"fill: #1f77b4; fill-opacity: 0.75; stroke: #000000; stroke-width: 0.417351; stroke-linejoin: miter\"/>\n   </g>\n   <g id=\"patch_53\">\n    <path d=\"M 263.06208 328.6 \nL 267.112623 328.6 \nL 267.112623 259.442923 \nL 263.06208 259.442923 \nz\n\" clip-path=\"url(#pe293735849)\" style=\"fill: #1f77b4; fill-opacity: 0.75; stroke: #000000; stroke-width: 0.417351; stroke-linejoin: miter\"/>\n   </g>\n   <g id=\"patch_54\">\n    <path d=\"M 267.112623 328.6 \nL 271.163166 328.6 \nL 271.163166 279.889363 \nL 267.112623 279.889363 \nz\n\" clip-path=\"url(#pe293735849)\" style=\"fill: #1f77b4; fill-opacity: 0.75; stroke: #000000; stroke-width: 0.417351; stroke-linejoin: miter\"/>\n   </g>\n   <g id=\"patch_55\">\n    <path d=\"M 271.163166 328.6 \nL 275.213708 328.6 \nL 275.213708 293.119412 \nL 271.163166 293.119412 \nz\n\" clip-path=\"url(#pe293735849)\" style=\"fill: #1f77b4; fill-opacity: 0.75; stroke: #000000; stroke-width: 0.417351; stroke-linejoin: miter\"/>\n   </g>\n   <g id=\"patch_56\">\n    <path d=\"M 275.213708 328.6 \nL 279.264251 328.6 \nL 279.264251 295.524876 \nL 275.213708 295.524876 \nz\n\" clip-path=\"url(#pe293735849)\" style=\"fill: #1f77b4; fill-opacity: 0.75; stroke: #000000; stroke-width: 0.417351; stroke-linejoin: miter\"/>\n   </g>\n   <g id=\"patch_57\">\n    <path d=\"M 279.264251 328.6 \nL 283.314794 328.6 \nL 283.314794 304.545364 \nL 279.264251 304.545364 \nz\n\" clip-path=\"url(#pe293735849)\" style=\"fill: #1f77b4; fill-opacity: 0.75; stroke: #000000; stroke-width: 0.417351; stroke-linejoin: miter\"/>\n   </g>\n   <g id=\"patch_58\">\n    <path d=\"M 283.314794 328.6 \nL 287.365337 328.6 \nL 287.365337 309.957657 \nL 283.314794 309.957657 \nz\n\" clip-path=\"url(#pe293735849)\" style=\"fill: #1f77b4; fill-opacity: 0.75; stroke: #000000; stroke-width: 0.417351; stroke-linejoin: miter\"/>\n   </g>\n   <g id=\"patch_59\">\n    <path d=\"M 287.365337 328.6 \nL 291.415879 328.6 \nL 291.415879 314.167219 \nL 287.365337 314.167219 \nz\n\" clip-path=\"url(#pe293735849)\" style=\"fill: #1f77b4; fill-opacity: 0.75; stroke: #000000; stroke-width: 0.417351; stroke-linejoin: miter\"/>\n   </g>\n   <g id=\"patch_60\">\n    <path d=\"M 291.415879 328.6 \nL 295.466422 328.6 \nL 295.466422 320.180878 \nL 291.415879 320.180878 \nz\n\" clip-path=\"url(#pe293735849)\" style=\"fill: #1f77b4; fill-opacity: 0.75; stroke: #000000; stroke-width: 0.417351; stroke-linejoin: miter\"/>\n   </g>\n   <g id=\"patch_61\">\n    <path d=\"M 295.466422 328.6 \nL 299.516965 328.6 \nL 299.516965 324.991805 \nL 295.466422 324.991805 \nz\n\" clip-path=\"url(#pe293735849)\" style=\"fill: #1f77b4; fill-opacity: 0.75; stroke: #000000; stroke-width: 0.417351; stroke-linejoin: miter\"/>\n   </g>\n   <g id=\"patch_62\">\n    <path d=\"M 299.516965 328.6 \nL 303.567508 328.6 \nL 303.567508 324.390439 \nL 299.516965 324.390439 \nz\n\" clip-path=\"url(#pe293735849)\" style=\"fill: #1f77b4; fill-opacity: 0.75; stroke: #000000; stroke-width: 0.417351; stroke-linejoin: miter\"/>\n   </g>\n   <g id=\"patch_63\">\n    <path d=\"M 303.567508 328.6 \nL 307.61805 328.6 \nL 307.61805 326.795902 \nL 303.567508 326.795902 \nz\n\" clip-path=\"url(#pe293735849)\" style=\"fill: #1f77b4; fill-opacity: 0.75; stroke: #000000; stroke-width: 0.417351; stroke-linejoin: miter\"/>\n   </g>\n   <g id=\"patch_64\">\n    <path d=\"M 307.61805 328.6 \nL 311.668593 328.6 \nL 311.668593 326.795902 \nL 307.61805 326.795902 \nz\n\" clip-path=\"url(#pe293735849)\" style=\"fill: #1f77b4; fill-opacity: 0.75; stroke: #000000; stroke-width: 0.417351; stroke-linejoin: miter\"/>\n   </g>\n   <g id=\"patch_65\">\n    <path d=\"M 311.668593 328.6 \nL 315.719136 328.6 \nL 315.719136 327.397268 \nL 311.668593 327.397268 \nz\n\" clip-path=\"url(#pe293735849)\" style=\"fill: #1f77b4; fill-opacity: 0.75; stroke: #000000; stroke-width: 0.417351; stroke-linejoin: miter\"/>\n   </g>\n   <g id=\"patch_66\">\n    <path d=\"M 315.719136 328.6 \nL 319.769679 328.6 \nL 319.769679 327.397268 \nL 315.719136 327.397268 \nz\n\" clip-path=\"url(#pe293735849)\" style=\"fill: #1f77b4; fill-opacity: 0.75; stroke: #000000; stroke-width: 0.417351; stroke-linejoin: miter\"/>\n   </g>\n   <g id=\"patch_67\">\n    <path d=\"M 319.769679 328.6 \nL 323.820221 328.6 \nL 323.820221 328.6 \nL 319.769679 328.6 \nz\n\" clip-path=\"url(#pe293735849)\" style=\"fill: #1f77b4; fill-opacity: 0.75; stroke: #000000; stroke-width: 0.417351; stroke-linejoin: miter\"/>\n   </g>\n   <g id=\"patch_68\">\n    <path d=\"M 323.820221 328.6 \nL 327.870764 328.6 \nL 327.870764 328.6 \nL 323.820221 328.6 \nz\n\" clip-path=\"url(#pe293735849)\" style=\"fill: #1f77b4; fill-opacity: 0.75; stroke: #000000; stroke-width: 0.417351; stroke-linejoin: miter\"/>\n   </g>\n   <g id=\"patch_69\">\n    <path d=\"M 327.870764 328.6 \nL 331.921307 328.6 \nL 331.921307 327.998634 \nL 327.870764 327.998634 \nz\n\" clip-path=\"url(#pe293735849)\" style=\"fill: #1f77b4; fill-opacity: 0.75; stroke: #000000; stroke-width: 0.417351; stroke-linejoin: miter\"/>\n   </g>\n   <g id=\"matplotlib.axis_1\">\n    <g id=\"xtick_1\">\n     <g id=\"line2d_1\">\n      <defs>\n       <path id=\"m118bd2037d\" d=\"M 0 0 \nL 0 3.5 \n\" style=\"stroke: #000000; stroke-width: 0.8\"/>\n      </defs>\n      <g>\n       <use xlink:href=\"#m118bd2037d\" x=\"78.105792\" y=\"328.6\" style=\"stroke: #000000; stroke-width: 0.8\"/>\n      </g>\n     </g>\n     <g id=\"text_1\">\n      <!-- −4 -->\n      <g transform=\"translate(70.734698 343.198437)scale(0.1 -0.1)\">\n       <defs>\n        <path id=\"DejaVuSans-2212\" d=\"M 678 2272 \nL 4684 2272 \nL 4684 1741 \nL 678 1741 \nL 678 2272 \nz\n\" transform=\"scale(0.015625)\"/>\n        <path id=\"DejaVuSans-34\" d=\"M 2419 4116 \nL 825 1625 \nL 2419 1625 \nL 2419 4116 \nz\nM 2253 4666 \nL 3047 4666 \nL 3047 1625 \nL 3713 1625 \nL 3713 1100 \nL 3047 1100 \nL 3047 0 \nL 2419 0 \nL 2419 1100 \nL 313 1100 \nL 313 1709 \nL 2253 4666 \nz\n\" transform=\"scale(0.015625)\"/>\n       </defs>\n       <use xlink:href=\"#DejaVuSans-2212\"/>\n       <use xlink:href=\"#DejaVuSans-34\" x=\"83.789062\"/>\n      </g>\n     </g>\n    </g>\n    <g id=\"xtick_2\">\n     <g id=\"line2d_2\">\n      <g>\n       <use xlink:href=\"#m118bd2037d\" x=\"143.037886\" y=\"328.6\" style=\"stroke: #000000; stroke-width: 0.8\"/>\n      </g>\n     </g>\n     <g id=\"text_2\">\n      <!-- −2 -->\n      <g transform=\"translate(135.666792 343.198437)scale(0.1 -0.1)\">\n       <defs>\n        <path id=\"DejaVuSans-32\" d=\"M 1228 531 \nL 3431 531 \nL 3431 0 \nL 469 0 \nL 469 531 \nQ 828 903 1448 1529 \nQ 2069 2156 2228 2338 \nQ 2531 2678 2651 2914 \nQ 2772 3150 2772 3378 \nQ 2772 3750 2511 3984 \nQ 2250 4219 1831 4219 \nQ 1534 4219 1204 4116 \nQ 875 4013 500 3803 \nL 500 4441 \nQ 881 4594 1212 4672 \nQ 1544 4750 1819 4750 \nQ 2544 4750 2975 4387 \nQ 3406 4025 3406 3419 \nQ 3406 3131 3298 2873 \nQ 3191 2616 2906 2266 \nQ 2828 2175 2409 1742 \nQ 1991 1309 1228 531 \nz\n\" transform=\"scale(0.015625)\"/>\n       </defs>\n       <use xlink:href=\"#DejaVuSans-2212\"/>\n       <use xlink:href=\"#DejaVuSans-32\" x=\"83.789062\"/>\n      </g>\n     </g>\n    </g>\n    <g id=\"xtick_3\">\n     <g id=\"line2d_3\">\n      <g>\n       <use xlink:href=\"#m118bd2037d\" x=\"207.96998\" y=\"328.6\" style=\"stroke: #000000; stroke-width: 0.8\"/>\n      </g>\n     </g>\n     <g id=\"text_3\">\n      <!-- 0 -->\n      <g transform=\"translate(204.78873 343.198437)scale(0.1 -0.1)\">\n       <defs>\n        <path id=\"DejaVuSans-30\" d=\"M 2034 4250 \nQ 1547 4250 1301 3770 \nQ 1056 3291 1056 2328 \nQ 1056 1369 1301 889 \nQ 1547 409 2034 409 \nQ 2525 409 2770 889 \nQ 3016 1369 3016 2328 \nQ 3016 3291 2770 3770 \nQ 2525 4250 2034 4250 \nz\nM 2034 4750 \nQ 2819 4750 3233 4129 \nQ 3647 3509 3647 2328 \nQ 3647 1150 3233 529 \nQ 2819 -91 2034 -91 \nQ 1250 -91 836 529 \nQ 422 1150 422 2328 \nQ 422 3509 836 4129 \nQ 1250 4750 2034 4750 \nz\n\" transform=\"scale(0.015625)\"/>\n       </defs>\n       <use xlink:href=\"#DejaVuSans-30\"/>\n      </g>\n     </g>\n    </g>\n    <g id=\"xtick_4\">\n     <g id=\"line2d_4\">\n      <g>\n       <use xlink:href=\"#m118bd2037d\" x=\"272.902074\" y=\"328.6\" style=\"stroke: #000000; stroke-width: 0.8\"/>\n      </g>\n     </g>\n     <g id=\"text_4\">\n      <!-- 2 -->\n      <g transform=\"translate(269.720824 343.198437)scale(0.1 -0.1)\">\n       <use xlink:href=\"#DejaVuSans-32\"/>\n      </g>\n     </g>\n    </g>\n    <g id=\"xtick_5\">\n     <g id=\"line2d_5\">\n      <g>\n       <use xlink:href=\"#m118bd2037d\" x=\"337.834167\" y=\"328.6\" style=\"stroke: #000000; stroke-width: 0.8\"/>\n      </g>\n     </g>\n     <g id=\"text_5\">\n      <!-- 4 -->\n      <g transform=\"translate(334.652917 343.198437)scale(0.1 -0.1)\">\n       <use xlink:href=\"#DejaVuSans-34\"/>\n      </g>\n     </g>\n    </g>\n   </g>\n   <g id=\"matplotlib.axis_2\">\n    <g id=\"ytick_1\">\n     <g id=\"line2d_6\">\n      <defs>\n       <path id=\"m748343ac30\" d=\"M 0 0 \nL -3.5 0 \n\" style=\"stroke: #000000; stroke-width: 0.8\"/>\n      </defs>\n      <g>\n       <use xlink:href=\"#m748343ac30\" x=\"46.965625\" y=\"328.6\" style=\"stroke: #000000; stroke-width: 0.8\"/>\n      </g>\n     </g>\n     <g id=\"text_6\">\n      <!-- 0 -->\n      <g transform=\"translate(33.603125 332.399219)scale(0.1 -0.1)\">\n       <use xlink:href=\"#DejaVuSans-30\"/>\n      </g>\n     </g>\n    </g>\n    <g id=\"ytick_2\">\n     <g id=\"line2d_7\">\n      <g>\n       <use xlink:href=\"#m748343ac30\" x=\"46.965625\" y=\"268.463411\" style=\"stroke: #000000; stroke-width: 0.8\"/>\n      </g>\n     </g>\n     <g id=\"text_7\">\n      <!-- 100 -->\n      <g transform=\"translate(20.878125 272.26263)scale(0.1 -0.1)\">\n       <defs>\n        <path id=\"DejaVuSans-31\" d=\"M 794 531 \nL 1825 531 \nL 1825 4091 \nL 703 3866 \nL 703 4441 \nL 1819 4666 \nL 2450 4666 \nL 2450 531 \nL 3481 531 \nL 3481 0 \nL 794 0 \nL 794 531 \nz\n\" transform=\"scale(0.015625)\"/>\n       </defs>\n       <use xlink:href=\"#DejaVuSans-31\"/>\n       <use xlink:href=\"#DejaVuSans-30\" x=\"63.623047\"/>\n       <use xlink:href=\"#DejaVuSans-30\" x=\"127.246094\"/>\n      </g>\n     </g>\n    </g>\n    <g id=\"ytick_3\">\n     <g id=\"line2d_8\">\n      <g>\n       <use xlink:href=\"#m748343ac30\" x=\"46.965625\" y=\"208.326822\" style=\"stroke: #000000; stroke-width: 0.8\"/>\n      </g>\n     </g>\n     <g id=\"text_8\">\n      <!-- 200 -->\n      <g transform=\"translate(20.878125 212.126041)scale(0.1 -0.1)\">\n       <use xlink:href=\"#DejaVuSans-32\"/>\n       <use xlink:href=\"#DejaVuSans-30\" x=\"63.623047\"/>\n       <use xlink:href=\"#DejaVuSans-30\" x=\"127.246094\"/>\n      </g>\n     </g>\n    </g>\n    <g id=\"ytick_4\">\n     <g id=\"line2d_9\">\n      <g>\n       <use xlink:href=\"#m748343ac30\" x=\"46.965625\" y=\"148.190233\" style=\"stroke: #000000; stroke-width: 0.8\"/>\n      </g>\n     </g>\n     <g id=\"text_9\">\n      <!-- 300 -->\n      <g transform=\"translate(20.878125 151.989452)scale(0.1 -0.1)\">\n       <defs>\n        <path id=\"DejaVuSans-33\" d=\"M 2597 2516 \nQ 3050 2419 3304 2112 \nQ 3559 1806 3559 1356 \nQ 3559 666 3084 287 \nQ 2609 -91 1734 -91 \nQ 1441 -91 1130 -33 \nQ 819 25 488 141 \nL 488 750 \nQ 750 597 1062 519 \nQ 1375 441 1716 441 \nQ 2309 441 2620 675 \nQ 2931 909 2931 1356 \nQ 2931 1769 2642 2001 \nQ 2353 2234 1838 2234 \nL 1294 2234 \nL 1294 2753 \nL 1863 2753 \nQ 2328 2753 2575 2939 \nQ 2822 3125 2822 3475 \nQ 2822 3834 2567 4026 \nQ 2313 4219 1838 4219 \nQ 1578 4219 1281 4162 \nQ 984 4106 628 3988 \nL 628 4550 \nQ 988 4650 1302 4700 \nQ 1616 4750 1894 4750 \nQ 2613 4750 3031 4423 \nQ 3450 4097 3450 3541 \nQ 3450 3153 3228 2886 \nQ 3006 2619 2597 2516 \nz\n\" transform=\"scale(0.015625)\"/>\n       </defs>\n       <use xlink:href=\"#DejaVuSans-33\"/>\n       <use xlink:href=\"#DejaVuSans-30\" x=\"63.623047\"/>\n       <use xlink:href=\"#DejaVuSans-30\" x=\"127.246094\"/>\n      </g>\n     </g>\n    </g>\n    <g id=\"ytick_5\">\n     <g id=\"line2d_10\">\n      <g>\n       <use xlink:href=\"#m748343ac30\" x=\"46.965625\" y=\"88.053644\" style=\"stroke: #000000; stroke-width: 0.8\"/>\n      </g>\n     </g>\n     <g id=\"text_10\">\n      <!-- 400 -->\n      <g transform=\"translate(20.878125 91.852863)scale(0.1 -0.1)\">\n       <use xlink:href=\"#DejaVuSans-34\"/>\n       <use xlink:href=\"#DejaVuSans-30\" x=\"63.623047\"/>\n       <use xlink:href=\"#DejaVuSans-30\" x=\"127.246094\"/>\n      </g>\n     </g>\n    </g>\n    <g id=\"ytick_6\">\n     <g id=\"line2d_11\">\n      <g>\n       <use xlink:href=\"#m748343ac30\" x=\"46.965625\" y=\"27.917055\" style=\"stroke: #000000; stroke-width: 0.8\"/>\n      </g>\n     </g>\n     <g id=\"text_11\">\n      <!-- 500 -->\n      <g transform=\"translate(20.878125 31.716274)scale(0.1 -0.1)\">\n       <defs>\n        <path id=\"DejaVuSans-35\" d=\"M 691 4666 \nL 3169 4666 \nL 3169 4134 \nL 1269 4134 \nL 1269 2991 \nQ 1406 3038 1543 3061 \nQ 1681 3084 1819 3084 \nQ 2600 3084 3056 2656 \nQ 3513 2228 3513 1497 \nQ 3513 744 3044 326 \nQ 2575 -91 1722 -91 \nQ 1428 -91 1123 -41 \nQ 819 9 494 109 \nL 494 744 \nQ 775 591 1075 516 \nQ 1375 441 1709 441 \nQ 2250 441 2565 725 \nQ 2881 1009 2881 1497 \nQ 2881 1984 2565 2268 \nQ 2250 2553 1709 2553 \nQ 1456 2553 1204 2497 \nQ 953 2441 691 2322 \nL 691 4666 \nz\n\" transform=\"scale(0.015625)\"/>\n       </defs>\n       <use xlink:href=\"#DejaVuSans-35\"/>\n       <use xlink:href=\"#DejaVuSans-30\" x=\"63.623047\"/>\n       <use xlink:href=\"#DejaVuSans-30\" x=\"127.246094\"/>\n      </g>\n     </g>\n    </g>\n    <g id=\"text_12\">\n     <!-- Count -->\n     <g transform=\"translate(14.798438 182.748437)rotate(-90)scale(0.1 -0.1)\">\n      <defs>\n       <path id=\"DejaVuSans-43\" d=\"M 4122 4306 \nL 4122 3641 \nQ 3803 3938 3442 4084 \nQ 3081 4231 2675 4231 \nQ 1875 4231 1450 3742 \nQ 1025 3253 1025 2328 \nQ 1025 1406 1450 917 \nQ 1875 428 2675 428 \nQ 3081 428 3442 575 \nQ 3803 722 4122 1019 \nL 4122 359 \nQ 3791 134 3420 21 \nQ 3050 -91 2638 -91 \nQ 1578 -91 968 557 \nQ 359 1206 359 2328 \nQ 359 3453 968 4101 \nQ 1578 4750 2638 4750 \nQ 3056 4750 3426 4639 \nQ 3797 4528 4122 4306 \nz\n\" transform=\"scale(0.015625)\"/>\n       <path id=\"DejaVuSans-6f\" d=\"M 1959 3097 \nQ 1497 3097 1228 2736 \nQ 959 2375 959 1747 \nQ 959 1119 1226 758 \nQ 1494 397 1959 397 \nQ 2419 397 2687 759 \nQ 2956 1122 2956 1747 \nQ 2956 2369 2687 2733 \nQ 2419 3097 1959 3097 \nz\nM 1959 3584 \nQ 2709 3584 3137 3096 \nQ 3566 2609 3566 1747 \nQ 3566 888 3137 398 \nQ 2709 -91 1959 -91 \nQ 1206 -91 779 398 \nQ 353 888 353 1747 \nQ 353 2609 779 3096 \nQ 1206 3584 1959 3584 \nz\n\" transform=\"scale(0.015625)\"/>\n       <path id=\"DejaVuSans-75\" d=\"M 544 1381 \nL 544 3500 \nL 1119 3500 \nL 1119 1403 \nQ 1119 906 1312 657 \nQ 1506 409 1894 409 \nQ 2359 409 2629 706 \nQ 2900 1003 2900 1516 \nL 2900 3500 \nL 3475 3500 \nL 3475 0 \nL 2900 0 \nL 2900 538 \nQ 2691 219 2414 64 \nQ 2138 -91 1772 -91 \nQ 1169 -91 856 284 \nQ 544 659 544 1381 \nz\nM 1991 3584 \nL 1991 3584 \nz\n\" transform=\"scale(0.015625)\"/>\n       <path id=\"DejaVuSans-6e\" d=\"M 3513 2113 \nL 3513 0 \nL 2938 0 \nL 2938 2094 \nQ 2938 2591 2744 2837 \nQ 2550 3084 2163 3084 \nQ 1697 3084 1428 2787 \nQ 1159 2491 1159 1978 \nL 1159 0 \nL 581 0 \nL 581 3500 \nL 1159 3500 \nL 1159 2956 \nQ 1366 3272 1645 3428 \nQ 1925 3584 2291 3584 \nQ 2894 3584 3203 3211 \nQ 3513 2838 3513 2113 \nz\n\" transform=\"scale(0.015625)\"/>\n       <path id=\"DejaVuSans-74\" d=\"M 1172 4494 \nL 1172 3500 \nL 2356 3500 \nL 2356 3053 \nL 1172 3053 \nL 1172 1153 \nQ 1172 725 1289 603 \nQ 1406 481 1766 481 \nL 2356 481 \nL 2356 0 \nL 1766 0 \nQ 1100 0 847 248 \nQ 594 497 594 1153 \nL 594 3053 \nL 172 3053 \nL 172 3500 \nL 594 3500 \nL 594 4494 \nL 1172 4494 \nz\n\" transform=\"scale(0.015625)\"/>\n      </defs>\n      <use xlink:href=\"#DejaVuSans-43\"/>\n      <use xlink:href=\"#DejaVuSans-6f\" x=\"69.824219\"/>\n      <use xlink:href=\"#DejaVuSans-75\" x=\"131.005859\"/>\n      <use xlink:href=\"#DejaVuSans-6e\" x=\"194.384766\"/>\n      <use xlink:href=\"#DejaVuSans-74\" x=\"257.763672\"/>\n     </g>\n    </g>\n   </g>\n   <g id=\"line2d_12\">\n    <path d=\"M 288.610944 328.6 \nL 288.610944 7.2 \n\" clip-path=\"url(#pe293735849)\" style=\"fill: none; stroke: #ff0000; stroke-width: 1.5; stroke-linecap: square\"/>\n   </g>\n   <g id=\"patch_70\">\n    <path d=\"M 46.965625 328.6 \nL 46.965625 7.2 \n\" style=\"fill: none; stroke: #000000; stroke-width: 0.8; stroke-linejoin: miter; stroke-linecap: square\"/>\n   </g>\n   <g id=\"patch_71\">\n    <path d=\"M 46.965625 328.6 \nL 345.490625 328.6 \n\" style=\"fill: none; stroke: #000000; stroke-width: 0.8; stroke-linejoin: miter; stroke-linecap: square\"/>\n   </g>\n  </g>\n </g>\n <defs>\n  <clipPath id=\"pe293735849\">\n   <rect x=\"46.965625\" y=\"7.2\" width=\"298.525\" height=\"321.4\"/>\n  </clipPath>\n </defs>\n</svg>\n",
      "text/plain": [
       "<Figure size 360x360 with 1 Axes>"
      ]
     },
     "metadata": {
      "needs_background": "light"
     },
     "output_type": "display_data"
    }
   ],
   "source": [
    "t_plot = sns.displot(samples)\n",
    "t_plot.ax.axvline(t, color='red')"
   ]
  },
  {
   "cell_type": "code",
   "execution_count": 20,
   "metadata": {},
   "outputs": [
    {
     "name": "stdout",
     "output_type": "stream",
     "text": [
      "Mean A: 0.24317617866004962; Variance A: 0.18404152479234528\n",
      "Mean B: 0.17733990147783252; Variance B: 0.1458904608216652\n",
      "t-statistic: -3.259351782979207\n"
     ]
    }
   ],
   "source": [
    "t, samples = bootstrap_samples(revenue_df, \"variant\", \"conversion\", 10_000, rng)"
   ]
  },
  {
   "cell_type": "code",
   "execution_count": 21,
   "metadata": {},
   "outputs": [
    {
     "data": {
      "text/plain": [
       "0.00029999999999996696"
      ]
     },
     "execution_count": 21,
     "metadata": {},
     "output_type": "execute_result"
    }
   ],
   "source": [
    "1.0 - np.mean(samples > t)"
   ]
  },
  {
   "cell_type": "code",
   "execution_count": 22,
   "metadata": {},
   "outputs": [
    {
     "data": {
      "text/plain": [
       "<matplotlib.lines.Line2D at 0x7f62342917f0>"
      ]
     },
     "execution_count": 22,
     "metadata": {},
     "output_type": "execute_result"
    },
    {
     "data": {
      "image/png": "[encoded data removed]",
      "image/svg+xml": "<?xml version=\"1.0\" encoding=\"utf-8\" standalone=\"no\"?>\n<!DOCTYPE svg PUBLIC \"-//W3C//DTD SVG 1.1//EN\"\n  \"http://www.w3.org/Graphics/SVG/1.1/DTD/svg11.dtd\">\n<svg xmlns:xlink=\"http://www.w3.org/1999/xlink\" width=\"352.704679pt\" height=\"352.478125pt\" viewBox=\"0 0 352.704679 352.478125\" xmlns=\"http://www.w3.org/2000/svg\" version=\"1.1\">\n <metadata>\n  <rdf:RDF xmlns:dc=\"http://purl.org/dc/elements/1.1/\" xmlns:cc=\"http://creativecommons.org/ns#\" xmlns:rdf=\"http://www.w3.org/1999/02/22-rdf-syntax-ns#\">\n   <cc:Work>\n    <dc:type rdf:resource=\"http://purl.org/dc/dcmitype/StillImage\"/>\n    <dc:date>2021-12-07T19:50:17.504712</dc:date>\n    <dc:format>image/svg+xml</dc:format>\n    <dc:creator>\n     <cc:Agent>\n      <dc:title>Matplotlib v3.5.0, https://matplotlib.org/</dc:title>\n     </cc:Agent>\n    </dc:creator>\n   </cc:Work>\n  </rdf:RDF>\n </metadata>\n <defs>\n  <style type=\"text/css\">*{stroke-linejoin: round; stroke-linecap: butt}</style>\n </defs>\n <g id=\"figure_1\">\n  <g id=\"patch_1\">\n   <path d=\"M 0 352.478125 \nL 352.704679 352.478125 \nL 352.704679 0 \nL 0 0 \nL 0 352.478125 \nz\n\" style=\"fill: none\"/>\n  </g>\n  <g id=\"axes_1\">\n   <g id=\"patch_2\">\n    <path d=\"M 46.965625 328.6 \nL 345.490625 328.6 \nL 345.490625 7.2 \nL 46.965625 7.2 \nz\n\" style=\"fill: #ffffff\"/>\n   </g>\n   <g id=\"patch_3\">\n    <path d=\"M 60.534943 328.6 \nL 65.134712 328.6 \nL 65.134712 327.978481 \nL 60.534943 327.978481 \nz\n\" clip-path=\"url(#p05eaa26d5d)\" style=\"fill: #1f77b4; fill-opacity: 0.5; stroke: #000000; stroke-width: 0.473941; stroke-linejoin: miter\"/>\n   </g>\n   <g id=\"patch_4\">\n    <path d=\"M 65.134712 328.6 \nL 69.734481 328.6 \nL 69.734481 327.978481 \nL 65.134712 327.978481 \nz\n\" clip-path=\"url(#p05eaa26d5d)\" style=\"fill: #1f77b4; fill-opacity: 0.5; stroke: #000000; stroke-width: 0.473941; stroke-linejoin: miter\"/>\n   </g>\n   <g id=\"patch_5\">\n    <path d=\"M 69.734481 328.6 \nL 74.33425 328.6 \nL 74.33425 327.978481 \nL 69.734481 327.978481 \nz\n\" clip-path=\"url(#p05eaa26d5d)\" style=\"fill: #1f77b4; fill-opacity: 0.5; stroke: #000000; stroke-width: 0.473941; stroke-linejoin: miter\"/>\n   </g>\n   <g id=\"patch_6\">\n    <path d=\"M 74.33425 328.6 \nL 78.934019 328.6 \nL 78.934019 327.356962 \nL 74.33425 327.356962 \nz\n\" clip-path=\"url(#p05eaa26d5d)\" style=\"fill: #1f77b4; fill-opacity: 0.5; stroke: #000000; stroke-width: 0.473941; stroke-linejoin: miter\"/>\n   </g>\n   <g id=\"patch_7\">\n    <path d=\"M 78.934019 328.6 \nL 83.533788 328.6 \nL 83.533788 326.113924 \nL 78.934019 326.113924 \nz\n\" clip-path=\"url(#p05eaa26d5d)\" style=\"fill: #1f77b4; fill-opacity: 0.5; stroke: #000000; stroke-width: 0.473941; stroke-linejoin: miter\"/>\n   </g>\n   <g id=\"patch_8\">\n    <path d=\"M 83.533788 328.6 \nL 88.133556 328.6 \nL 88.133556 327.356962 \nL 83.533788 327.356962 \nz\n\" clip-path=\"url(#p05eaa26d5d)\" style=\"fill: #1f77b4; fill-opacity: 0.5; stroke: #000000; stroke-width: 0.473941; stroke-linejoin: miter\"/>\n   </g>\n   <g id=\"patch_9\">\n    <path d=\"M 88.133556 328.6 \nL 92.733325 328.6 \nL 92.733325 323.006328 \nL 88.133556 323.006328 \nz\n\" clip-path=\"url(#p05eaa26d5d)\" style=\"fill: #1f77b4; fill-opacity: 0.5; stroke: #000000; stroke-width: 0.473941; stroke-linejoin: miter\"/>\n   </g>\n   <g id=\"patch_10\">\n    <path d=\"M 92.733325 328.6 \nL 97.333094 328.6 \nL 97.333094 320.520252 \nL 92.733325 320.520252 \nz\n\" clip-path=\"url(#p05eaa26d5d)\" style=\"fill: #1f77b4; fill-opacity: 0.5; stroke: #000000; stroke-width: 0.473941; stroke-linejoin: miter\"/>\n   </g>\n   <g id=\"patch_11\">\n    <path d=\"M 97.333094 328.6 \nL 101.932863 328.6 \nL 101.932863 315.5481 \nL 97.333094 315.5481 \nz\n\" clip-path=\"url(#p05eaa26d5d)\" style=\"fill: #1f77b4; fill-opacity: 0.5; stroke: #000000; stroke-width: 0.473941; stroke-linejoin: miter\"/>\n   </g>\n   <g id=\"patch_12\">\n    <path d=\"M 101.932863 328.6 \nL 106.532632 328.6 \nL 106.532632 308.71139 \nL 101.932863 308.71139 \nz\n\" clip-path=\"url(#p05eaa26d5d)\" style=\"fill: #1f77b4; fill-opacity: 0.5; stroke: #000000; stroke-width: 0.473941; stroke-linejoin: miter\"/>\n   </g>\n   <g id=\"patch_13\">\n    <path d=\"M 106.532632 328.6 \nL 111.132401 328.6 \nL 111.132401 310.575947 \nL 106.532632 310.575947 \nz\n\" clip-path=\"url(#p05eaa26d5d)\" style=\"fill: #1f77b4; fill-opacity: 0.5; stroke: #000000; stroke-width: 0.473941; stroke-linejoin: miter\"/>\n   </g>\n   <g id=\"patch_14\">\n    <path d=\"M 111.132401 328.6 \nL 115.73217 328.6 \nL 115.73217 299.388604 \nL 111.132401 299.388604 \nz\n\" clip-path=\"url(#p05eaa26d5d)\" style=\"fill: #1f77b4; fill-opacity: 0.5; stroke: #000000; stroke-width: 0.473941; stroke-linejoin: miter\"/>\n   </g>\n   <g id=\"patch_15\">\n    <path d=\"M 115.73217 328.6 \nL 120.331939 328.6 \nL 120.331939 296.902528 \nL 115.73217 296.902528 \nz\n\" clip-path=\"url(#p05eaa26d5d)\" style=\"fill: #1f77b4; fill-opacity: 0.5; stroke: #000000; stroke-width: 0.473941; stroke-linejoin: miter\"/>\n   </g>\n   <g id=\"patch_16\">\n    <path d=\"M 120.331939 328.6 \nL 124.931707 328.6 \nL 124.931707 275.77088 \nL 120.331939 275.77088 \nz\n\" clip-path=\"url(#p05eaa26d5d)\" style=\"fill: #1f77b4; fill-opacity: 0.5; stroke: #000000; stroke-width: 0.473941; stroke-linejoin: miter\"/>\n   </g>\n   <g id=\"patch_17\">\n    <path d=\"M 124.931707 328.6 \nL 129.531476 328.6 \nL 129.531476 268.93417 \nL 124.931707 268.93417 \nz\n\" clip-path=\"url(#p05eaa26d5d)\" style=\"fill: #1f77b4; fill-opacity: 0.5; stroke: #000000; stroke-width: 0.473941; stroke-linejoin: miter\"/>\n   </g>\n   <g id=\"patch_18\">\n    <path d=\"M 129.531476 328.6 \nL 134.131245 328.6 \nL 134.131245 267.069613 \nL 129.531476 267.069613 \nz\n\" clip-path=\"url(#p05eaa26d5d)\" style=\"fill: #1f77b4; fill-opacity: 0.5; stroke: #000000; stroke-width: 0.473941; stroke-linejoin: miter\"/>\n   </g>\n   <g id=\"patch_19\">\n    <path d=\"M 134.131245 328.6 \nL 138.731014 328.6 \nL 138.731014 234.129103 \nL 134.131245 234.129103 \nz\n\" clip-path=\"url(#p05eaa26d5d)\" style=\"fill: #1f77b4; fill-opacity: 0.5; stroke: #000000; stroke-width: 0.473941; stroke-linejoin: miter\"/>\n   </g>\n   <g id=\"patch_20\">\n    <path d=\"M 138.731014 328.6 \nL 143.330783 328.6 \nL 143.330783 224.184798 \nL 138.731014 224.184798 \nz\n\" clip-path=\"url(#p05eaa26d5d)\" style=\"fill: #1f77b4; fill-opacity: 0.5; stroke: #000000; stroke-width: 0.473941; stroke-linejoin: miter\"/>\n   </g>\n   <g id=\"patch_21\">\n    <path d=\"M 143.330783 328.6 \nL 147.930552 328.6 \nL 147.930552 204.296188 \nL 143.330783 204.296188 \nz\n\" clip-path=\"url(#p05eaa26d5d)\" style=\"fill: #1f77b4; fill-opacity: 0.5; stroke: #000000; stroke-width: 0.473941; stroke-linejoin: miter\"/>\n   </g>\n   <g id=\"patch_22\">\n    <path d=\"M 147.930552 328.6 \nL 152.530321 328.6 \nL 152.530321 175.706311 \nL 147.930552 175.706311 \nz\n\" clip-path=\"url(#p05eaa26d5d)\" style=\"fill: #1f77b4; fill-opacity: 0.5; stroke: #000000; stroke-width: 0.473941; stroke-linejoin: miter\"/>\n   </g>\n   <g id=\"patch_23\">\n    <path d=\"M 152.530321 328.6 \nL 157.13009 328.6 \nL 157.13009 152.088587 \nL 152.530321 152.088587 \nz\n\" clip-path=\"url(#p05eaa26d5d)\" style=\"fill: #1f77b4; fill-opacity: 0.5; stroke: #000000; stroke-width: 0.473941; stroke-linejoin: miter\"/>\n   </g>\n   <g id=\"patch_24\">\n    <path d=\"M 157.13009 328.6 \nL 161.729858 328.6 \nL 161.729858 98.016428 \nL 157.13009 98.016428 \nz\n\" clip-path=\"url(#p05eaa26d5d)\" style=\"fill: #1f77b4; fill-opacity: 0.5; stroke: #000000; stroke-width: 0.473941; stroke-linejoin: miter\"/>\n   </g>\n   <g id=\"patch_25\">\n    <path d=\"M 161.729858 328.6 \nL 166.329627 328.6 \nL 166.329627 100.502505 \nL 161.729858 100.502505 \nz\n\" clip-path=\"url(#p05eaa26d5d)\" style=\"fill: #1f77b4; fill-opacity: 0.5; stroke: #000000; stroke-width: 0.473941; stroke-linejoin: miter\"/>\n   </g>\n   <g id=\"patch_26\">\n    <path d=\"M 166.329627 328.6 \nL 170.929396 328.6 \nL 170.929396 106.717695 \nL 166.329627 106.717695 \nz\n\" clip-path=\"url(#p05eaa26d5d)\" style=\"fill: #1f77b4; fill-opacity: 0.5; stroke: #000000; stroke-width: 0.473941; stroke-linejoin: miter\"/>\n   </g>\n   <g id=\"patch_27\">\n    <path d=\"M 170.929396 328.6 \nL 175.529165 328.6 \nL 175.529165 78.749337 \nL 170.929396 78.749337 \nz\n\" clip-path=\"url(#p05eaa26d5d)\" style=\"fill: #1f77b4; fill-opacity: 0.5; stroke: #000000; stroke-width: 0.473941; stroke-linejoin: miter\"/>\n   </g>\n   <g id=\"patch_28\">\n    <path d=\"M 175.529165 328.6 \nL 180.128934 328.6 \nL 180.128934 52.024018 \nL 175.529165 52.024018 \nz\n\" clip-path=\"url(#p05eaa26d5d)\" style=\"fill: #1f77b4; fill-opacity: 0.5; stroke: #000000; stroke-width: 0.473941; stroke-linejoin: miter\"/>\n   </g>\n   <g id=\"patch_29\">\n    <path d=\"M 180.128934 328.6 \nL 184.728703 328.6 \nL 184.728703 30.89237 \nL 180.128934 30.89237 \nz\n\" clip-path=\"url(#p05eaa26d5d)\" style=\"fill: #1f77b4; fill-opacity: 0.5; stroke: #000000; stroke-width: 0.473941; stroke-linejoin: miter\"/>\n   </g>\n   <g id=\"patch_30\">\n    <path d=\"M 184.728703 328.6 \nL 189.328472 328.6 \nL 189.328472 32.756927 \nL 184.728703 32.756927 \nz\n\" clip-path=\"url(#p05eaa26d5d)\" style=\"fill: #1f77b4; fill-opacity: 0.5; stroke: #000000; stroke-width: 0.473941; stroke-linejoin: miter\"/>\n   </g>\n   <g id=\"patch_31\">\n    <path d=\"M 189.328472 328.6 \nL 193.928241 328.6 \nL 193.928241 30.270851 \nL 189.328472 30.270851 \nz\n\" clip-path=\"url(#p05eaa26d5d)\" style=\"fill: #1f77b4; fill-opacity: 0.5; stroke: #000000; stroke-width: 0.473941; stroke-linejoin: miter\"/>\n   </g>\n   <g id=\"patch_32\">\n    <path d=\"M 193.928241 328.6 \nL 198.528009 328.6 \nL 198.528009 23.434141 \nL 193.928241 23.434141 \nz\n\" clip-path=\"url(#p05eaa26d5d)\" style=\"fill: #1f77b4; fill-opacity: 0.5; stroke: #000000; stroke-width: 0.473941; stroke-linejoin: miter\"/>\n   </g>\n   <g id=\"patch_33\">\n    <path d=\"M 198.528009 328.6 \nL 203.127778 328.6 \nL 203.127778 32.756927 \nL 198.528009 32.756927 \nz\n\" clip-path=\"url(#p05eaa26d5d)\" style=\"fill: #1f77b4; fill-opacity: 0.5; stroke: #000000; stroke-width: 0.473941; stroke-linejoin: miter\"/>\n   </g>\n   <g id=\"patch_34\">\n    <path d=\"M 203.127778 328.6 \nL 207.727547 328.6 \nL 207.727547 34.621484 \nL 203.127778 34.621484 \nz\n\" clip-path=\"url(#p05eaa26d5d)\" style=\"fill: #1f77b4; fill-opacity: 0.5; stroke: #000000; stroke-width: 0.473941; stroke-linejoin: miter\"/>\n   </g>\n   <g id=\"patch_35\">\n    <path d=\"M 207.727547 328.6 \nL 212.327316 328.6 \nL 212.327316 48.916423 \nL 207.727547 48.916423 \nz\n\" clip-path=\"url(#p05eaa26d5d)\" style=\"fill: #1f77b4; fill-opacity: 0.5; stroke: #000000; stroke-width: 0.473941; stroke-linejoin: miter\"/>\n   </g>\n   <g id=\"patch_36\">\n    <path d=\"M 212.327316 328.6 \nL 216.927085 328.6 \nL 216.927085 56.99617 \nL 212.327316 56.99617 \nz\n\" clip-path=\"url(#p05eaa26d5d)\" style=\"fill: #1f77b4; fill-opacity: 0.5; stroke: #000000; stroke-width: 0.473941; stroke-linejoin: miter\"/>\n   </g>\n   <g id=\"patch_37\">\n    <path d=\"M 216.927085 328.6 \nL 221.526854 328.6 \nL 221.526854 78.749337 \nL 216.927085 78.749337 \nz\n\" clip-path=\"url(#p05eaa26d5d)\" style=\"fill: #1f77b4; fill-opacity: 0.5; stroke: #000000; stroke-width: 0.473941; stroke-linejoin: miter\"/>\n   </g>\n   <g id=\"patch_38\">\n    <path d=\"M 221.526854 328.6 \nL 226.126623 328.6 \nL 226.126623 81.856933 \nL 221.526854 81.856933 \nz\n\" clip-path=\"url(#p05eaa26d5d)\" style=\"fill: #1f77b4; fill-opacity: 0.5; stroke: #000000; stroke-width: 0.473941; stroke-linejoin: miter\"/>\n   </g>\n   <g id=\"patch_39\">\n    <path d=\"M 226.126623 328.6 \nL 230.726392 328.6 \nL 230.726392 137.172129 \nL 226.126623 137.172129 \nz\n\" clip-path=\"url(#p05eaa26d5d)\" style=\"fill: #1f77b4; fill-opacity: 0.5; stroke: #000000; stroke-width: 0.473941; stroke-linejoin: miter\"/>\n   </g>\n   <g id=\"patch_40\">\n    <path d=\"M 230.726392 328.6 \nL 235.32616 328.6 \nL 235.32616 139.658205 \nL 230.726392 139.658205 \nz\n\" clip-path=\"url(#p05eaa26d5d)\" style=\"fill: #1f77b4; fill-opacity: 0.5; stroke: #000000; stroke-width: 0.473941; stroke-linejoin: miter\"/>\n   </g>\n   <g id=\"patch_41\">\n    <path d=\"M 235.32616 328.6 \nL 239.925929 328.6 \nL 239.925929 148.980991 \nL 235.32616 148.980991 \nz\n\" clip-path=\"url(#p05eaa26d5d)\" style=\"fill: #1f77b4; fill-opacity: 0.5; stroke: #000000; stroke-width: 0.473941; stroke-linejoin: miter\"/>\n   </g>\n   <g id=\"patch_42\">\n    <path d=\"M 239.925929 328.6 \nL 244.525698 328.6 \nL 244.525698 198.080997 \nL 239.925929 198.080997 \nz\n\" clip-path=\"url(#p05eaa26d5d)\" style=\"fill: #1f77b4; fill-opacity: 0.5; stroke: #000000; stroke-width: 0.473941; stroke-linejoin: miter\"/>\n   </g>\n   <g id=\"patch_43\">\n    <path d=\"M 244.525698 328.6 \nL 249.125467 328.6 \nL 249.125467 226.670874 \nL 244.525698 226.670874 \nz\n\" clip-path=\"url(#p05eaa26d5d)\" style=\"fill: #1f77b4; fill-opacity: 0.5; stroke: #000000; stroke-width: 0.473941; stroke-linejoin: miter\"/>\n   </g>\n   <g id=\"patch_44\">\n    <path d=\"M 249.125467 328.6 \nL 253.725236 328.6 \nL 253.725236 237.858217 \nL 249.125467 237.858217 \nz\n\" clip-path=\"url(#p05eaa26d5d)\" style=\"fill: #1f77b4; fill-opacity: 0.5; stroke: #000000; stroke-width: 0.473941; stroke-linejoin: miter\"/>\n   </g>\n   <g id=\"patch_45\">\n    <path d=\"M 253.725236 328.6 \nL 258.325005 328.6 \nL 258.325005 248.424041 \nL 253.725236 248.424041 \nz\n\" clip-path=\"url(#p05eaa26d5d)\" style=\"fill: #1f77b4; fill-opacity: 0.5; stroke: #000000; stroke-width: 0.473941; stroke-linejoin: miter\"/>\n   </g>\n   <g id=\"patch_46\">\n    <path d=\"M 258.325005 328.6 \nL 262.924774 328.6 \nL 262.924774 258.368346 \nL 258.325005 258.368346 \nz\n\" clip-path=\"url(#p05eaa26d5d)\" style=\"fill: #1f77b4; fill-opacity: 0.5; stroke: #000000; stroke-width: 0.473941; stroke-linejoin: miter\"/>\n   </g>\n   <g id=\"patch_47\">\n    <path d=\"M 262.924774 328.6 \nL 267.524543 328.6 \nL 267.524543 281.98607 \nL 262.924774 281.98607 \nz\n\" clip-path=\"url(#p05eaa26d5d)\" style=\"fill: #1f77b4; fill-opacity: 0.5; stroke: #000000; stroke-width: 0.473941; stroke-linejoin: miter\"/>\n   </g>\n   <g id=\"patch_48\">\n    <path d=\"M 267.524543 328.6 \nL 272.124311 328.6 \nL 272.124311 290.065818 \nL 267.524543 290.065818 \nz\n\" clip-path=\"url(#p05eaa26d5d)\" style=\"fill: #1f77b4; fill-opacity: 0.5; stroke: #000000; stroke-width: 0.473941; stroke-linejoin: miter\"/>\n   </g>\n   <g id=\"patch_49\">\n    <path d=\"M 272.124311 328.6 \nL 276.72408 328.6 \nL 276.72408 304.982276 \nL 272.124311 304.982276 \nz\n\" clip-path=\"url(#p05eaa26d5d)\" style=\"fill: #1f77b4; fill-opacity: 0.5; stroke: #000000; stroke-width: 0.473941; stroke-linejoin: miter\"/>\n   </g>\n   <g id=\"patch_50\">\n    <path d=\"M 276.72408 328.6 \nL 281.323849 328.6 \nL 281.323849 309.954428 \nL 276.72408 309.954428 \nz\n\" clip-path=\"url(#p05eaa26d5d)\" style=\"fill: #1f77b4; fill-opacity: 0.5; stroke: #000000; stroke-width: 0.473941; stroke-linejoin: miter\"/>\n   </g>\n   <g id=\"patch_51\">\n    <path d=\"M 281.323849 328.6 \nL 285.923618 328.6 \nL 285.923618 315.5481 \nL 281.323849 315.5481 \nz\n\" clip-path=\"url(#p05eaa26d5d)\" style=\"fill: #1f77b4; fill-opacity: 0.5; stroke: #000000; stroke-width: 0.473941; stroke-linejoin: miter\"/>\n   </g>\n   <g id=\"patch_52\">\n    <path d=\"M 285.923618 328.6 \nL 290.523387 328.6 \nL 290.523387 316.791138 \nL 285.923618 316.791138 \nz\n\" clip-path=\"url(#p05eaa26d5d)\" style=\"fill: #1f77b4; fill-opacity: 0.5; stroke: #000000; stroke-width: 0.473941; stroke-linejoin: miter\"/>\n   </g>\n   <g id=\"patch_53\">\n    <path d=\"M 290.523387 328.6 \nL 295.123156 328.6 \nL 295.123156 323.006328 \nL 290.523387 323.006328 \nz\n\" clip-path=\"url(#p05eaa26d5d)\" style=\"fill: #1f77b4; fill-opacity: 0.5; stroke: #000000; stroke-width: 0.473941; stroke-linejoin: miter\"/>\n   </g>\n   <g id=\"patch_54\">\n    <path d=\"M 295.123156 328.6 \nL 299.722925 328.6 \nL 299.722925 318.655695 \nL 295.123156 318.655695 \nz\n\" clip-path=\"url(#p05eaa26d5d)\" style=\"fill: #1f77b4; fill-opacity: 0.5; stroke: #000000; stroke-width: 0.473941; stroke-linejoin: miter\"/>\n   </g>\n   <g id=\"patch_55\">\n    <path d=\"M 299.722925 328.6 \nL 304.322694 328.6 \nL 304.322694 324.870886 \nL 299.722925 324.870886 \nz\n\" clip-path=\"url(#p05eaa26d5d)\" style=\"fill: #1f77b4; fill-opacity: 0.5; stroke: #000000; stroke-width: 0.473941; stroke-linejoin: miter\"/>\n   </g>\n   <g id=\"patch_56\">\n    <path d=\"M 304.322694 328.6 \nL 308.922462 328.6 \nL 308.922462 324.870886 \nL 304.322694 324.870886 \nz\n\" clip-path=\"url(#p05eaa26d5d)\" style=\"fill: #1f77b4; fill-opacity: 0.5; stroke: #000000; stroke-width: 0.473941; stroke-linejoin: miter\"/>\n   </g>\n   <g id=\"patch_57\">\n    <path d=\"M 308.922462 328.6 \nL 313.522231 328.6 \nL 313.522231 326.113924 \nL 308.922462 326.113924 \nz\n\" clip-path=\"url(#p05eaa26d5d)\" style=\"fill: #1f77b4; fill-opacity: 0.5; stroke: #000000; stroke-width: 0.473941; stroke-linejoin: miter\"/>\n   </g>\n   <g id=\"patch_58\">\n    <path d=\"M 313.522231 328.6 \nL 318.122 328.6 \nL 318.122 327.978481 \nL 313.522231 327.978481 \nz\n\" clip-path=\"url(#p05eaa26d5d)\" style=\"fill: #1f77b4; fill-opacity: 0.5; stroke: #000000; stroke-width: 0.473941; stroke-linejoin: miter\"/>\n   </g>\n   <g id=\"patch_59\">\n    <path d=\"M 318.122 328.6 \nL 322.721769 328.6 \nL 322.721769 327.978481 \nL 318.122 327.978481 \nz\n\" clip-path=\"url(#p05eaa26d5d)\" style=\"fill: #1f77b4; fill-opacity: 0.5; stroke: #000000; stroke-width: 0.473941; stroke-linejoin: miter\"/>\n   </g>\n   <g id=\"patch_60\">\n    <path d=\"M 322.721769 328.6 \nL 327.321538 328.6 \nL 327.321538 327.978481 \nL 322.721769 327.978481 \nz\n\" clip-path=\"url(#p05eaa26d5d)\" style=\"fill: #1f77b4; fill-opacity: 0.5; stroke: #000000; stroke-width: 0.473941; stroke-linejoin: miter\"/>\n   </g>\n   <g id=\"patch_61\">\n    <path d=\"M 327.321538 328.6 \nL 331.921307 328.6 \nL 331.921307 327.356962 \nL 327.321538 327.356962 \nz\n\" clip-path=\"url(#p05eaa26d5d)\" style=\"fill: #1f77b4; fill-opacity: 0.5; stroke: #000000; stroke-width: 0.473941; stroke-linejoin: miter\"/>\n   </g>\n   <g id=\"matplotlib.axis_1\">\n    <g id=\"xtick_1\">\n     <g id=\"line2d_1\">\n      <defs>\n       <path id=\"m04088a36e5\" d=\"M 0 0 \nL 0 3.5 \n\" style=\"stroke: #000000; stroke-width: 0.8\"/>\n      </defs>\n      <g>\n       <use xlink:href=\"#m04088a36e5\" x=\"47.508061\" y=\"328.6\" style=\"stroke: #000000; stroke-width: 0.8\"/>\n      </g>\n     </g>\n     <g id=\"text_1\">\n      <!-- −4 -->\n      <g transform=\"translate(40.136967 343.198437)scale(0.1 -0.1)\">\n       <defs>\n        <path id=\"DejaVuSans-2212\" d=\"M 678 2272 \nL 4684 2272 \nL 4684 1741 \nL 678 1741 \nL 678 2272 \nz\n\" transform=\"scale(0.015625)\"/>\n        <path id=\"DejaVuSans-34\" d=\"M 2419 4116 \nL 825 1625 \nL 2419 1625 \nL 2419 4116 \nz\nM 2253 4666 \nL 3047 4666 \nL 3047 1625 \nL 3713 1625 \nL 3713 1100 \nL 3047 1100 \nL 3047 0 \nL 2419 0 \nL 2419 1100 \nL 313 1100 \nL 313 1709 \nL 2253 4666 \nz\n\" transform=\"scale(0.015625)\"/>\n       </defs>\n       <use xlink:href=\"#DejaVuSans-2212\"/>\n       <use xlink:href=\"#DejaVuSans-34\" x=\"83.789062\"/>\n      </g>\n     </g>\n    </g>\n    <g id=\"xtick_2\">\n     <g id=\"line2d_2\">\n      <g>\n       <use xlink:href=\"#m04088a36e5\" x=\"84.359982\" y=\"328.6\" style=\"stroke: #000000; stroke-width: 0.8\"/>\n      </g>\n     </g>\n     <g id=\"text_2\">\n      <!-- −3 -->\n      <g transform=\"translate(76.988888 343.198437)scale(0.1 -0.1)\">\n       <defs>\n        <path id=\"DejaVuSans-33\" d=\"M 2597 2516 \nQ 3050 2419 3304 2112 \nQ 3559 1806 3559 1356 \nQ 3559 666 3084 287 \nQ 2609 -91 1734 -91 \nQ 1441 -91 1130 -33 \nQ 819 25 488 141 \nL 488 750 \nQ 750 597 1062 519 \nQ 1375 441 1716 441 \nQ 2309 441 2620 675 \nQ 2931 909 2931 1356 \nQ 2931 1769 2642 2001 \nQ 2353 2234 1838 2234 \nL 1294 2234 \nL 1294 2753 \nL 1863 2753 \nQ 2328 2753 2575 2939 \nQ 2822 3125 2822 3475 \nQ 2822 3834 2567 4026 \nQ 2313 4219 1838 4219 \nQ 1578 4219 1281 4162 \nQ 984 4106 628 3988 \nL 628 4550 \nQ 988 4650 1302 4700 \nQ 1616 4750 1894 4750 \nQ 2613 4750 3031 4423 \nQ 3450 4097 3450 3541 \nQ 3450 3153 3228 2886 \nQ 3006 2619 2597 2516 \nz\n\" transform=\"scale(0.015625)\"/>\n       </defs>\n       <use xlink:href=\"#DejaVuSans-2212\"/>\n       <use xlink:href=\"#DejaVuSans-33\" x=\"83.789062\"/>\n      </g>\n     </g>\n    </g>\n    <g id=\"xtick_3\">\n     <g id=\"line2d_3\">\n      <g>\n       <use xlink:href=\"#m04088a36e5\" x=\"121.211903\" y=\"328.6\" style=\"stroke: #000000; stroke-width: 0.8\"/>\n      </g>\n     </g>\n     <g id=\"text_3\">\n      <!-- −2 -->\n      <g transform=\"translate(113.840809 343.198437)scale(0.1 -0.1)\">\n       <defs>\n        <path id=\"DejaVuSans-32\" d=\"M 1228 531 \nL 3431 531 \nL 3431 0 \nL 469 0 \nL 469 531 \nQ 828 903 1448 1529 \nQ 2069 2156 2228 2338 \nQ 2531 2678 2651 2914 \nQ 2772 3150 2772 3378 \nQ 2772 3750 2511 3984 \nQ 2250 4219 1831 4219 \nQ 1534 4219 1204 4116 \nQ 875 4013 500 3803 \nL 500 4441 \nQ 881 4594 1212 4672 \nQ 1544 4750 1819 4750 \nQ 2544 4750 2975 4387 \nQ 3406 4025 3406 3419 \nQ 3406 3131 3298 2873 \nQ 3191 2616 2906 2266 \nQ 2828 2175 2409 1742 \nQ 1991 1309 1228 531 \nz\n\" transform=\"scale(0.015625)\"/>\n       </defs>\n       <use xlink:href=\"#DejaVuSans-2212\"/>\n       <use xlink:href=\"#DejaVuSans-32\" x=\"83.789062\"/>\n      </g>\n     </g>\n    </g>\n    <g id=\"xtick_4\">\n     <g id=\"line2d_4\">\n      <g>\n       <use xlink:href=\"#m04088a36e5\" x=\"158.063824\" y=\"328.6\" style=\"stroke: #000000; stroke-width: 0.8\"/>\n      </g>\n     </g>\n     <g id=\"text_4\">\n      <!-- −1 -->\n      <g transform=\"translate(150.69273 343.198437)scale(0.1 -0.1)\">\n       <defs>\n        <path id=\"DejaVuSans-31\" d=\"M 794 531 \nL 1825 531 \nL 1825 4091 \nL 703 3866 \nL 703 4441 \nL 1819 4666 \nL 2450 4666 \nL 2450 531 \nL 3481 531 \nL 3481 0 \nL 794 0 \nL 794 531 \nz\n\" transform=\"scale(0.015625)\"/>\n       </defs>\n       <use xlink:href=\"#DejaVuSans-2212\"/>\n       <use xlink:href=\"#DejaVuSans-31\" x=\"83.789062\"/>\n      </g>\n     </g>\n    </g>\n    <g id=\"xtick_5\">\n     <g id=\"line2d_5\">\n      <g>\n       <use xlink:href=\"#m04088a36e5\" x=\"194.915745\" y=\"328.6\" style=\"stroke: #000000; stroke-width: 0.8\"/>\n      </g>\n     </g>\n     <g id=\"text_5\">\n      <!-- 0 -->\n      <g transform=\"translate(191.734495 343.198437)scale(0.1 -0.1)\">\n       <defs>\n        <path id=\"DejaVuSans-30\" d=\"M 2034 4250 \nQ 1547 4250 1301 3770 \nQ 1056 3291 1056 2328 \nQ 1056 1369 1301 889 \nQ 1547 409 2034 409 \nQ 2525 409 2770 889 \nQ 3016 1369 3016 2328 \nQ 3016 3291 2770 3770 \nQ 2525 4250 2034 4250 \nz\nM 2034 4750 \nQ 2819 4750 3233 4129 \nQ 3647 3509 3647 2328 \nQ 3647 1150 3233 529 \nQ 2819 -91 2034 -91 \nQ 1250 -91 836 529 \nQ 422 1150 422 2328 \nQ 422 3509 836 4129 \nQ 1250 4750 2034 4750 \nz\n\" transform=\"scale(0.015625)\"/>\n       </defs>\n       <use xlink:href=\"#DejaVuSans-30\"/>\n      </g>\n     </g>\n    </g>\n    <g id=\"xtick_6\">\n     <g id=\"line2d_6\">\n      <g>\n       <use xlink:href=\"#m04088a36e5\" x=\"231.767666\" y=\"328.6\" style=\"stroke: #000000; stroke-width: 0.8\"/>\n      </g>\n     </g>\n     <g id=\"text_6\">\n      <!-- 1 -->\n      <g transform=\"translate(228.586416 343.198437)scale(0.1 -0.1)\">\n       <use xlink:href=\"#DejaVuSans-31\"/>\n      </g>\n     </g>\n    </g>\n    <g id=\"xtick_7\">\n     <g id=\"line2d_7\">\n      <g>\n       <use xlink:href=\"#m04088a36e5\" x=\"268.619587\" y=\"328.6\" style=\"stroke: #000000; stroke-width: 0.8\"/>\n      </g>\n     </g>\n     <g id=\"text_7\">\n      <!-- 2 -->\n      <g transform=\"translate(265.438337 343.198437)scale(0.1 -0.1)\">\n       <use xlink:href=\"#DejaVuSans-32\"/>\n      </g>\n     </g>\n    </g>\n    <g id=\"xtick_8\">\n     <g id=\"line2d_8\">\n      <g>\n       <use xlink:href=\"#m04088a36e5\" x=\"305.471508\" y=\"328.6\" style=\"stroke: #000000; stroke-width: 0.8\"/>\n      </g>\n     </g>\n     <g id=\"text_8\">\n      <!-- 3 -->\n      <g transform=\"translate(302.290258 343.198437)scale(0.1 -0.1)\">\n       <use xlink:href=\"#DejaVuSans-33\"/>\n      </g>\n     </g>\n    </g>\n    <g id=\"xtick_9\">\n     <g id=\"line2d_9\">\n      <g>\n       <use xlink:href=\"#m04088a36e5\" x=\"342.323429\" y=\"328.6\" style=\"stroke: #000000; stroke-width: 0.8\"/>\n      </g>\n     </g>\n     <g id=\"text_9\">\n      <!-- 4 -->\n      <g transform=\"translate(339.142179 343.198437)scale(0.1 -0.1)\">\n       <use xlink:href=\"#DejaVuSans-34\"/>\n      </g>\n     </g>\n    </g>\n   </g>\n   <g id=\"matplotlib.axis_2\">\n    <g id=\"ytick_1\">\n     <g id=\"line2d_10\">\n      <defs>\n       <path id=\"mbb87ab0dc1\" d=\"M 0 0 \nL -3.5 0 \n\" style=\"stroke: #000000; stroke-width: 0.8\"/>\n      </defs>\n      <g>\n       <use xlink:href=\"#mbb87ab0dc1\" x=\"46.965625\" y=\"328.6\" style=\"stroke: #000000; stroke-width: 0.8\"/>\n      </g>\n     </g>\n     <g id=\"text_10\">\n      <!-- 0 -->\n      <g transform=\"translate(33.603125 332.399219)scale(0.1 -0.1)\">\n       <use xlink:href=\"#DejaVuSans-30\"/>\n      </g>\n     </g>\n    </g>\n    <g id=\"ytick_2\">\n     <g id=\"line2d_11\">\n      <g>\n       <use xlink:href=\"#mbb87ab0dc1\" x=\"46.965625\" y=\"266.448094\" style=\"stroke: #000000; stroke-width: 0.8\"/>\n      </g>\n     </g>\n     <g id=\"text_11\">\n      <!-- 100 -->\n      <g transform=\"translate(20.878125 270.247313)scale(0.1 -0.1)\">\n       <use xlink:href=\"#DejaVuSans-31\"/>\n       <use xlink:href=\"#DejaVuSans-30\" x=\"63.623047\"/>\n       <use xlink:href=\"#DejaVuSans-30\" x=\"127.246094\"/>\n      </g>\n     </g>\n    </g>\n    <g id=\"ytick_3\">\n     <g id=\"line2d_12\">\n      <g>\n       <use xlink:href=\"#mbb87ab0dc1\" x=\"46.965625\" y=\"204.296188\" style=\"stroke: #000000; stroke-width: 0.8\"/>\n      </g>\n     </g>\n     <g id=\"text_12\">\n      <!-- 200 -->\n      <g transform=\"translate(20.878125 208.095407)scale(0.1 -0.1)\">\n       <use xlink:href=\"#DejaVuSans-32\"/>\n       <use xlink:href=\"#DejaVuSans-30\" x=\"63.623047\"/>\n       <use xlink:href=\"#DejaVuSans-30\" x=\"127.246094\"/>\n      </g>\n     </g>\n    </g>\n    <g id=\"ytick_4\">\n     <g id=\"line2d_13\">\n      <g>\n       <use xlink:href=\"#mbb87ab0dc1\" x=\"46.965625\" y=\"142.144282\" style=\"stroke: #000000; stroke-width: 0.8\"/>\n      </g>\n     </g>\n     <g id=\"text_13\">\n      <!-- 300 -->\n      <g transform=\"translate(20.878125 145.9435)scale(0.1 -0.1)\">\n       <use xlink:href=\"#DejaVuSans-33\"/>\n       <use xlink:href=\"#DejaVuSans-30\" x=\"63.623047\"/>\n       <use xlink:href=\"#DejaVuSans-30\" x=\"127.246094\"/>\n      </g>\n     </g>\n    </g>\n    <g id=\"ytick_5\">\n     <g id=\"line2d_14\">\n      <g>\n       <use xlink:href=\"#mbb87ab0dc1\" x=\"46.965625\" y=\"79.992376\" style=\"stroke: #000000; stroke-width: 0.8\"/>\n      </g>\n     </g>\n     <g id=\"text_14\">\n      <!-- 400 -->\n      <g transform=\"translate(20.878125 83.791594)scale(0.1 -0.1)\">\n       <use xlink:href=\"#DejaVuSans-34\"/>\n       <use xlink:href=\"#DejaVuSans-30\" x=\"63.623047\"/>\n       <use xlink:href=\"#DejaVuSans-30\" x=\"127.246094\"/>\n      </g>\n     </g>\n    </g>\n    <g id=\"ytick_6\">\n     <g id=\"line2d_15\">\n      <g>\n       <use xlink:href=\"#mbb87ab0dc1\" x=\"46.965625\" y=\"17.84047\" style=\"stroke: #000000; stroke-width: 0.8\"/>\n      </g>\n     </g>\n     <g id=\"text_15\">\n      <!-- 500 -->\n      <g transform=\"translate(20.878125 21.639688)scale(0.1 -0.1)\">\n       <defs>\n        <path id=\"DejaVuSans-35\" d=\"M 691 4666 \nL 3169 4666 \nL 3169 4134 \nL 1269 4134 \nL 1269 2991 \nQ 1406 3038 1543 3061 \nQ 1681 3084 1819 3084 \nQ 2600 3084 3056 2656 \nQ 3513 2228 3513 1497 \nQ 3513 744 3044 326 \nQ 2575 -91 1722 -91 \nQ 1428 -91 1123 -41 \nQ 819 9 494 109 \nL 494 744 \nQ 775 591 1075 516 \nQ 1375 441 1709 441 \nQ 2250 441 2565 725 \nQ 2881 1009 2881 1497 \nQ 2881 1984 2565 2268 \nQ 2250 2553 1709 2553 \nQ 1456 2553 1204 2497 \nQ 953 2441 691 2322 \nL 691 4666 \nz\n\" transform=\"scale(0.015625)\"/>\n       </defs>\n       <use xlink:href=\"#DejaVuSans-35\"/>\n       <use xlink:href=\"#DejaVuSans-30\" x=\"63.623047\"/>\n       <use xlink:href=\"#DejaVuSans-30\" x=\"127.246094\"/>\n      </g>\n     </g>\n    </g>\n    <g id=\"text_16\">\n     <!-- Count -->\n     <g transform=\"translate(14.798438 182.748437)rotate(-90)scale(0.1 -0.1)\">\n      <defs>\n       <path id=\"DejaVuSans-43\" d=\"M 4122 4306 \nL 4122 3641 \nQ 3803 3938 3442 4084 \nQ 3081 4231 2675 4231 \nQ 1875 4231 1450 3742 \nQ 1025 3253 1025 2328 \nQ 1025 1406 1450 917 \nQ 1875 428 2675 428 \nQ 3081 428 3442 575 \nQ 3803 722 4122 1019 \nL 4122 359 \nQ 3791 134 3420 21 \nQ 3050 -91 2638 -91 \nQ 1578 -91 968 557 \nQ 359 1206 359 2328 \nQ 359 3453 968 4101 \nQ 1578 4750 2638 4750 \nQ 3056 4750 3426 4639 \nQ 3797 4528 4122 4306 \nz\n\" transform=\"scale(0.015625)\"/>\n       <path id=\"DejaVuSans-6f\" d=\"M 1959 3097 \nQ 1497 3097 1228 2736 \nQ 959 2375 959 1747 \nQ 959 1119 1226 758 \nQ 1494 397 1959 397 \nQ 2419 397 2687 759 \nQ 2956 1122 2956 1747 \nQ 2956 2369 2687 2733 \nQ 2419 3097 1959 3097 \nz\nM 1959 3584 \nQ 2709 3584 3137 3096 \nQ 3566 2609 3566 1747 \nQ 3566 888 3137 398 \nQ 2709 -91 1959 -91 \nQ 1206 -91 779 398 \nQ 353 888 353 1747 \nQ 353 2609 779 3096 \nQ 1206 3584 1959 3584 \nz\n\" transform=\"scale(0.015625)\"/>\n       <path id=\"DejaVuSans-75\" d=\"M 544 1381 \nL 544 3500 \nL 1119 3500 \nL 1119 1403 \nQ 1119 906 1312 657 \nQ 1506 409 1894 409 \nQ 2359 409 2629 706 \nQ 2900 1003 2900 1516 \nL 2900 3500 \nL 3475 3500 \nL 3475 0 \nL 2900 0 \nL 2900 538 \nQ 2691 219 2414 64 \nQ 2138 -91 1772 -91 \nQ 1169 -91 856 284 \nQ 544 659 544 1381 \nz\nM 1991 3584 \nL 1991 3584 \nz\n\" transform=\"scale(0.015625)\"/>\n       <path id=\"DejaVuSans-6e\" d=\"M 3513 2113 \nL 3513 0 \nL 2938 0 \nL 2938 2094 \nQ 2938 2591 2744 2837 \nQ 2550 3084 2163 3084 \nQ 1697 3084 1428 2787 \nQ 1159 2491 1159 1978 \nL 1159 0 \nL 581 0 \nL 581 3500 \nL 1159 3500 \nL 1159 2956 \nQ 1366 3272 1645 3428 \nQ 1925 3584 2291 3584 \nQ 2894 3584 3203 3211 \nQ 3513 2838 3513 2113 \nz\n\" transform=\"scale(0.015625)\"/>\n       <path id=\"DejaVuSans-74\" d=\"M 1172 4494 \nL 1172 3500 \nL 2356 3500 \nL 2356 3053 \nL 1172 3053 \nL 1172 1153 \nQ 1172 725 1289 603 \nQ 1406 481 1766 481 \nL 2356 481 \nL 2356 0 \nL 1766 0 \nQ 1100 0 847 248 \nQ 594 497 594 1153 \nL 594 3053 \nL 172 3053 \nL 172 3500 \nL 594 3500 \nL 594 4494 \nL 1172 4494 \nz\n\" transform=\"scale(0.015625)\"/>\n      </defs>\n      <use xlink:href=\"#DejaVuSans-43\"/>\n      <use xlink:href=\"#DejaVuSans-6f\" x=\"69.824219\"/>\n      <use xlink:href=\"#DejaVuSans-75\" x=\"131.005859\"/>\n      <use xlink:href=\"#DejaVuSans-6e\" x=\"194.384766\"/>\n      <use xlink:href=\"#DejaVuSans-74\" x=\"257.763672\"/>\n     </g>\n    </g>\n   </g>\n   <g id=\"line2d_16\">\n    <path d=\"M 60.534943 328.198164 \nL 72.808698 327.64571 \nL 78.263701 327.023943 \nL 82.354952 326.306361 \nL 85.082453 325.549376 \nL 87.809955 324.422795 \nL 90.537456 322.875655 \nL 93.264957 320.955234 \nL 95.992458 318.762471 \nL 101.44746 313.960435 \nL 105.538712 310.097861 \nL 108.266213 307.109934 \nL 109.629964 305.378897 \nL 110.993714 303.446036 \nL 112.357465 301.293708 \nL 115.084966 296.337887 \nL 117.812467 290.666434 \nL 123.267469 278.384063 \nL 127.358721 268.821092 \nL 130.086222 261.674219 \nL 132.813723 253.391384 \nL 135.541225 243.96859 \nL 138.268726 233.706933 \nL 140.996227 222.702975 \nL 143.723728 210.630187 \nL 146.451229 197.103878 \nL 149.17873 182.148981 \nL 155.997483 142.854891 \nL 158.724984 128.947636 \nL 160.088735 122.790119 \nL 162.816236 112.017164 \nL 169.634989 87.572067 \nL 172.36249 76.00798 \nL 176.453742 57.626237 \nL 177.817492 51.957461 \nL 179.181243 46.824324 \nL 180.544993 42.340202 \nL 181.908744 38.544741 \nL 183.272495 35.403299 \nL 184.636245 32.822069 \nL 185.999996 30.675223 \nL 187.363746 28.837189 \nL 190.091247 25.754519 \nL 191.454998 24.475946 \nL 192.818749 23.440033 \nL 194.182499 22.745768 \nL 195.54625 22.504762 \nL 196.91 22.816986 \nL 198.273751 23.749979 \nL 199.637501 25.325505 \nL 201.001252 27.515999 \nL 202.365003 30.250983 \nL 203.728753 33.431528 \nL 206.456254 40.705092 \nL 209.183755 48.666154 \nL 211.911257 57.09475 \nL 214.638758 66.121176 \nL 217.366259 75.926336 \nL 220.09376 86.594705 \nL 222.821261 98.075656 \nL 231.003765 133.385103 \nL 233.731266 145.09353 \nL 236.458767 158.228973 \nL 239.186268 173.383706 \nL 244.64127 205.424739 \nL 246.005021 212.550932 \nL 247.368771 219.061286 \nL 248.732522 224.955355 \nL 250.096273 230.291481 \nL 252.823774 239.676719 \nL 255.551275 248.043883 \nL 263.733778 272.577555 \nL 267.82503 284.643099 \nL 270.552531 291.931923 \nL 273.280032 298.384907 \nL 274.643783 301.253442 \nL 276.007533 303.86085 \nL 277.371284 306.196484 \nL 278.735035 308.260751 \nL 280.098785 310.068258 \nL 281.462536 311.647247 \nL 284.190037 314.271321 \nL 286.917538 316.41375 \nL 289.645039 318.208323 \nL 292.37254 319.651821 \nL 295.100041 320.776922 \nL 308.737547 325.632184 \nL 312.828799 326.609055 \nL 316.920051 327.273453 \nL 321.011302 327.647466 \nL 329.193806 327.998334 \nL 331.921307 328.130647 \nL 331.921307 328.130647 \n\" clip-path=\"url(#p05eaa26d5d)\" style=\"fill: none; stroke: #1f77b4; stroke-width: 1.5; stroke-linecap: square\"/>\n   </g>\n   <g id=\"line2d_17\">\n    <path d=\"M 74.80237 328.6 \nL 74.80237 7.2 \n\" clip-path=\"url(#p05eaa26d5d)\" style=\"fill: none; stroke: #ff0000; stroke-width: 1.5; stroke-linecap: square\"/>\n   </g>\n   <g id=\"patch_62\">\n    <path d=\"M 46.965625 328.6 \nL 46.965625 7.2 \n\" style=\"fill: none; stroke: #000000; stroke-width: 0.8; stroke-linejoin: miter; stroke-linecap: square\"/>\n   </g>\n   <g id=\"patch_63\">\n    <path d=\"M 46.965625 328.6 \nL 345.490625 328.6 \n\" style=\"fill: none; stroke: #000000; stroke-width: 0.8; stroke-linejoin: miter; stroke-linecap: square\"/>\n   </g>\n  </g>\n </g>\n <defs>\n  <clipPath id=\"p05eaa26d5d\">\n   <rect x=\"46.965625\" y=\"7.2\" width=\"298.525\" height=\"321.4\"/>\n  </clipPath>\n </defs>\n</svg>\n",
      "text/plain": [
       "<Figure size 360x360 with 1 Axes>"
      ]
     },
     "metadata": {
      "needs_background": "light"
     },
     "output_type": "display_data"
    }
   ],
   "source": [
    "t_plot = sns.displot(samples, kde=True)\n",
    "t_plot.ax.axvline(t, color='red')"
   ]
  },
  {
   "cell_type": "markdown",
   "metadata": {},
   "source": [
    "## Mean revenue per user"
   ]
  },
  {
   "cell_type": "code",
   "execution_count": 23,
   "metadata": {},
   "outputs": [],
   "source": [
    "mean_A = st.bootstrap(\n",
    "    (revenue_df.loc[revenue_df[\"variant\"] == \"A\", \"revenue\"].values,),\n",
    "    np.mean,\n",
    "    confidence_level=0.9,\n",
    "    random_state=rng,\n",
    ")\n"
   ]
  },
  {
   "cell_type": "code",
   "execution_count": 24,
   "metadata": {},
   "outputs": [
    {
     "data": {
      "text/plain": [
       "BootstrapResult(confidence_interval=ConfidenceInterval(low=43.63466391222728, high=53.680890462684644), standard_error=3.030059342576033)"
      ]
     },
     "execution_count": 24,
     "metadata": {},
     "output_type": "execute_result"
    }
   ],
   "source": [
    "mean_A"
   ]
  },
  {
   "cell_type": "code",
   "execution_count": 25,
   "metadata": {},
   "outputs": [],
   "source": [
    "mean_B = st.bootstrap(\n",
    "    (revenue_df.loc[revenue_df[\"variant\"] == \"B\", \"revenue\"].values,),\n",
    "    np.mean,\n",
    "    confidence_level=0.9,\n",
    "    random_state=rng,\n",
    ")"
   ]
  },
  {
   "cell_type": "code",
   "execution_count": 26,
   "metadata": {},
   "outputs": [
    {
     "data": {
      "text/plain": [
       "BootstrapResult(confidence_interval=ConfidenceInterval(low=55.05568817305396, high=70.53252835168765), standard_error=4.752606914300443)"
      ]
     },
     "execution_count": 26,
     "metadata": {},
     "output_type": "execute_result"
    }
   ],
   "source": [
    "mean_B"
   ]
  },
  {
   "cell_type": "markdown",
   "metadata": {},
   "source": [
    "## Conversion rates"
   ]
  },
  {
   "cell_type": "code",
   "execution_count": 27,
   "metadata": {},
   "outputs": [],
   "source": [
    "mean_conv_A = st.bootstrap(\n",
    "    (revenue_df.loc[revenue_df[\"variant\"] == \"A\", \"conversion\"].values,),\n",
    "    np.mean,\n",
    "    confidence_level=0.9,\n",
    "    random_state=rng,\n",
    ")\n"
   ]
  },
  {
   "cell_type": "code",
   "execution_count": 28,
   "metadata": {},
   "outputs": [
    {
     "data": {
      "text/plain": [
       "BootstrapResult(confidence_interval=ConfidenceInterval(low=0.21836228287841192, high=0.2679900744416873), standard_error=0.015089287665759038)"
      ]
     },
     "execution_count": 28,
     "metadata": {},
     "output_type": "execute_result"
    }
   ],
   "source": [
    "mean_conv_A"
   ]
  },
  {
   "cell_type": "code",
   "execution_count": 29,
   "metadata": {},
   "outputs": [],
   "source": [
    "mean_conv_B = st.bootstrap(\n",
    "    (revenue_df.loc[revenue_df[\"variant\"] == \"B\", \"conversion\"].values,),\n",
    "    np.mean,\n",
    "    confidence_level=0.9,\n",
    "    random_state=rng,\n",
    ")"
   ]
  },
  {
   "cell_type": "code",
   "execution_count": 30,
   "metadata": {},
   "outputs": [
    {
     "data": {
      "text/plain": [
       "BootstrapResult(confidence_interval=ConfidenceInterval(low=0.15517241379310345, high=0.19950738916256158), standard_error=0.013486131151355633)"
      ]
     },
     "execution_count": 30,
     "metadata": {},
     "output_type": "execute_result"
    }
   ],
   "source": [
    "mean_conv_B"
   ]
  },
  {
   "cell_type": "markdown",
   "metadata": {},
   "source": [
    "## Tests"
   ]
  },
  {
   "cell_type": "code",
   "execution_count": 5,
   "metadata": {},
   "outputs": [
    {
     "name": "stdout",
     "output_type": "stream",
     "text": [
      "--- Test for: Conversion ---\n",
      "--- Method: Z-test ---\n",
      "\n",
      "Expected downlift: 25.40%\n",
      "P-value: 0.06%\n",
      "Significant at 95%!\n",
      "Significant at 99%!\n"
     ]
    }
   ],
   "source": [
    "z_test_conversion(clean_logs, alternative=\"smaller\")"
   ]
  },
  {
   "cell_type": "code",
   "execution_count": 6,
   "metadata": {},
   "outputs": [
    {
     "name": "stdout",
     "output_type": "stream",
     "text": [
      "--- Test for: Conversion ---\n",
      "--- Method: Bootstrap resampling ---\n",
      "\n",
      "Expected downlift: 25.40%\n",
      "Mean A: 0.24\n",
      "Mean B: 0.18\n",
      "t-statistic: -3.26\n",
      "P-value: 0.04%\n",
      "Significant at 95%!\n",
      "Significant at 99%!\n"
     ]
    }
   ],
   "source": [
    "bootstrap_pvalue(clean_logs, target_col=\"conversion\", alternative=\"smaller\")"
   ]
  },
  {
   "cell_type": "code",
   "execution_count": 7,
   "metadata": {},
   "outputs": [
    {
     "name": "stdout",
     "output_type": "stream",
     "text": [
      "--- Test for: Revenue ---\n",
      "--- Method: Bootstrap resampling ---\n",
      "\n",
      "Expected uplift: 28.89%\n",
      "Mean A: 48.45\n",
      "Mean B: 62.45\n",
      "t-statistic: 2.48\n",
      "P-value: 0.59%\n",
      "Significant at 95%!\n",
      "Significant at 99%!\n"
     ]
    }
   ],
   "source": [
    "bootstrap_pvalue(clean_logs, target_col=\"revenue\", kpi_col=\"rpu\", alternative=\"larger\")"
   ]
  },
  {
   "cell_type": "markdown",
   "metadata": {},
   "source": [
    "## Average booking revenue"
   ]
  },
  {
   "cell_type": "code",
   "execution_count": 53,
   "metadata": {},
   "outputs": [],
   "source": [
    "mean_A = st.bootstrap(\n",
    "    (\n",
    "        revenue_df.loc[\n",
    "            (revenue_df[\"variant\"] == \"A\")\n",
    "            & (revenue_df[\"revenue\"] > 0)\n",
    "            & (revenue_df[\"city\"] == \"london\"),\n",
    "            \"revenue\",\n",
    "        ].values,\n",
    "    ),\n",
    "    np.mean,\n",
    "    confidence_level=0.95,\n",
    "    random_state=rng,\n",
    ")"
   ]
  },
  {
   "cell_type": "code",
   "execution_count": 54,
   "metadata": {},
   "outputs": [],
   "source": [
    "exp_a = (mean_A.confidence_interval.high + mean_A.confidence_interval.low) / 2"
   ]
  },
  {
   "cell_type": "code",
   "execution_count": 55,
   "metadata": {},
   "outputs": [],
   "source": [
    "err_a = (mean_A.confidence_interval.high - mean_A.confidence_interval.low) / 2"
   ]
  },
  {
   "cell_type": "code",
   "execution_count": 56,
   "metadata": {},
   "outputs": [],
   "source": [
    "mean_B = st.bootstrap(\n",
    "    (\n",
    "        revenue_df.loc[\n",
    "            (revenue_df[\"variant\"] == \"B\")\n",
    "            & (revenue_df[\"revenue\"] > 0)\n",
    "            & (revenue_df[\"city\"] == \"london\"),\n",
    "            \"revenue\",\n",
    "        ].values,\n",
    "    ),\n",
    "    np.mean,\n",
    "    confidence_level=0.95,\n",
    "    random_state=rng,\n",
    ")"
   ]
  },
  {
   "cell_type": "code",
   "execution_count": 57,
   "metadata": {},
   "outputs": [],
   "source": [
    "exp_b = (mean_B.confidence_interval.high + mean_B.confidence_interval.low) / 2"
   ]
  },
  {
   "cell_type": "code",
   "execution_count": 58,
   "metadata": {},
   "outputs": [],
   "source": [
    "err_b = (mean_B.confidence_interval.high - mean_B.confidence_interval.low) / 2"
   ]
  },
  {
   "cell_type": "code",
   "execution_count": 59,
   "metadata": {},
   "outputs": [
    {
     "data": {
      "text/plain": [
       "81.70900226843993"
      ]
     },
     "execution_count": 59,
     "metadata": {},
     "output_type": "execute_result"
    }
   ],
   "source": [
    "rate = 100 * ((exp_b / exp_a) - 1)\n",
    "rate"
   ]
  },
  {
   "cell_type": "code",
   "execution_count": 60,
   "metadata": {},
   "outputs": [
    {
     "data": {
      "text/plain": [
       "17.002406442866903"
      ]
     },
     "execution_count": 60,
     "metadata": {},
     "output_type": "execute_result"
    }
   ],
   "source": [
    "100*np.sqrt((err_a*exp_b/(exp_a**2))**2 + (err_b/exp_a)**2)"
   ]
  },
  {
   "cell_type": "code",
   "execution_count": 61,
   "metadata": {},
   "outputs": [
    {
     "data": {
      "text/plain": [
       "0.5960966957565847"
      ]
     },
     "execution_count": 61,
     "metadata": {},
     "output_type": "execute_result"
    }
   ],
   "source": [
    "mean_B.confidence_interval.low/mean_A.confidence_interval.high - 1"
   ]
  },
  {
   "cell_type": "code",
   "execution_count": 62,
   "metadata": {},
   "outputs": [
    {
     "data": {
      "text/plain": [
       "1.074146942715017"
      ]
     },
     "execution_count": 62,
     "metadata": {},
     "output_type": "execute_result"
    }
   ],
   "source": [
    "mean_B.confidence_interval.high/mean_A.confidence_interval.low - 1"
   ]
  },
  {
   "cell_type": "code",
   "execution_count": null,
   "metadata": {},
   "outputs": [],
   "source": []
  }
 ],
 "metadata": {
  "interpreter": {
   "hash": "e67c2d3d04ba1045655ec0eb8babab1bbd0f604589ee63e0a564d55ae00e7b53"
  },
  "kernelspec": {
   "display_name": "Python 3.8.8 64-bit ('.venv': venv)",
   "name": "python3"
  },
  "language_info": {
   "codemirror_mode": {
    "name": "ipython",
    "version": 3
   },
   "file_extension": ".py",
   "mimetype": "text/x-python",
   "name": "python",
   "nbconvert_exporter": "python",
   "pygments_lexer": "ipython3",
   "version": "3.8.8"
  },
  "orig_nbformat": 4
 },
 "nbformat": 4,
 "nbformat_minor": 2
}
